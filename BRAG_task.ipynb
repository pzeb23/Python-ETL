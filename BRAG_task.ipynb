{
 "cells": [
  {
   "cell_type": "code",
   "execution_count": 1,
   "id": "f453ead9-137a-4930-8092-fdda54f8860f",
   "metadata": {},
   "outputs": [],
   "source": [
    "# Operating system: MacOS 13.0\n",
    "import pandas as pd\n",
    "import numpy as np"
   ]
  },
  {
   "cell_type": "code",
   "execution_count": 2,
   "id": "a3cf7c87-3305-4e1e-b6a7-6a14209121ca",
   "metadata": {
    "tags": []
   },
   "outputs": [
    {
     "name": "stdout",
     "output_type": "stream",
     "text": [
      "[['travel_description', 'travel_date', 'section_order', 'city_from', 'city_to', 'section_distance_km', 'section_time_min', 'section_avg_speed_km_h', 'travel_avg_speed_km_h', 'travel_total_distance_km', 'driver_name', 'other_passengers'], ['Podróż z Poznania do Warszawy przez Łódź', '01/12/2020', '1', 'Poznań', 'Łódź', '218', '146', '89.59', '83.1', '349', 'Piotr Żyła', 'Krzysztof Ibisz,Edyta Górniak'], ['Podróż z Poznania do Warszawy przez Łódź', '01/12/2020', '2', 'Łódź', 'Warszawa', '131', '106', '74.15', '83.1', '349', 'Piotr Żyła', 'Krzysztof Ibisz'], ['Podróż z Wrocławia do Rzeszowa z przystankami', '12/12/2020', '1', 'Wrocław', 'Katowice', '195', '130', '90', '87.92', '444', 'Adam Nowak', 'Anna Kowalska,Jarosław Jakimowicz'], ['Podróż z Wrocławia do Rzeszowa z przystankami', '12/12/2020', '2', 'Katowice', 'Kraków', '79', '64', '74.06', '87.92', '444', 'Adam Nowak', 'Anna Kowalska,Jarosław Jakimowicz,Edyta Górniak'], ['Podróż z Wrocławia do Rzeszowa z przystankami', '12/12/2020', '3', 'Kraków', 'Rzeszów', '170', '109', '93.58', '87.92', '444', 'Adam Nowak', 'Edyta Górniak'], ['Podróż z Warszawy do Katowic - stajemy też w Łodzi', '08/12/2020', '1', 'Warszawa', 'Łódź', '131', '92', '85.43', '76.7', '418', 'Edyta Górniak', 'Jarosław Jakimowicz,Adam Nowak'], ['Podróż z Warszawy do Katowic - stajemy też w Łodzi', '08/12/2020', '2', 'Łódź', 'Katowice', '287', '235', '73.28', '76.7', '418', 'Edyta Górniak', 'Jarosław Jakimowicz']]\n"
     ]
    }
   ],
   "source": [
    "import csv\n",
    "\n",
    "with open('travel_data.csv', newline='') as csvfile:\n",
    "    data = list(csv.reader(csvfile, delimiter='|'))\n",
    "\n",
    "print(data)"
   ]
  },
  {
   "cell_type": "code",
   "execution_count": 3,
   "id": "00d93ab5-d559-4a9c-b132-8e8472350b0f",
   "metadata": {},
   "outputs": [],
   "source": [
    "data_columns = data[0]"
   ]
  },
  {
   "cell_type": "code",
   "execution_count": 4,
   "id": "65089432-2e07-48a2-b265-6974b9525648",
   "metadata": {},
   "outputs": [
    {
     "data": {
      "text/plain": [
       "['travel_description',\n",
       " 'travel_date',\n",
       " 'section_order',\n",
       " 'city_from',\n",
       " 'city_to',\n",
       " 'section_distance_km',\n",
       " 'section_time_min',\n",
       " 'section_avg_speed_km_h',\n",
       " 'travel_avg_speed_km_h',\n",
       " 'travel_total_distance_km',\n",
       " 'driver_name',\n",
       " 'other_passengers']"
      ]
     },
     "execution_count": 4,
     "metadata": {},
     "output_type": "execute_result"
    }
   ],
   "source": [
    "data_columns"
   ]
  },
  {
   "cell_type": "code",
   "execution_count": 5,
   "id": "63d1abb6-df15-4ad5-b138-799da753f8cd",
   "metadata": {},
   "outputs": [],
   "source": [
    "data_content = data[1:]"
   ]
  },
  {
   "cell_type": "markdown",
   "id": "2e5906f2-79bb-4c38-bb64-b811a4064607",
   "metadata": {},
   "source": [
    "# Main data frame"
   ]
  },
  {
   "cell_type": "code",
   "execution_count": 6,
   "id": "31794044-7b1f-4071-8e28-79e359a17d24",
   "metadata": {},
   "outputs": [
    {
     "data": {
      "text/html": [
       "<div>\n",
       "<style scoped>\n",
       "    .dataframe tbody tr th:only-of-type {\n",
       "        vertical-align: middle;\n",
       "    }\n",
       "\n",
       "    .dataframe tbody tr th {\n",
       "        vertical-align: top;\n",
       "    }\n",
       "\n",
       "    .dataframe thead th {\n",
       "        text-align: right;\n",
       "    }\n",
       "</style>\n",
       "<table border=\"1\" class=\"dataframe\">\n",
       "  <thead>\n",
       "    <tr style=\"text-align: right;\">\n",
       "      <th></th>\n",
       "      <th>travel_description</th>\n",
       "      <th>travel_date</th>\n",
       "      <th>section_order</th>\n",
       "      <th>city_from</th>\n",
       "      <th>city_to</th>\n",
       "      <th>section_distance_km</th>\n",
       "      <th>section_time_min</th>\n",
       "      <th>section_avg_speed_km_h</th>\n",
       "      <th>travel_avg_speed_km_h</th>\n",
       "      <th>travel_total_distance_km</th>\n",
       "      <th>driver_name</th>\n",
       "      <th>other_passengers</th>\n",
       "    </tr>\n",
       "  </thead>\n",
       "  <tbody>\n",
       "    <tr>\n",
       "      <th>0</th>\n",
       "      <td>Podróż z Poznania do Warszawy przez Łódź</td>\n",
       "      <td>01/12/2020</td>\n",
       "      <td>1</td>\n",
       "      <td>Poznań</td>\n",
       "      <td>Łódź</td>\n",
       "      <td>218</td>\n",
       "      <td>146</td>\n",
       "      <td>89.59</td>\n",
       "      <td>83.1</td>\n",
       "      <td>349</td>\n",
       "      <td>Piotr Żyła</td>\n",
       "      <td>Krzysztof Ibisz,Edyta Górniak</td>\n",
       "    </tr>\n",
       "    <tr>\n",
       "      <th>1</th>\n",
       "      <td>Podróż z Poznania do Warszawy przez Łódź</td>\n",
       "      <td>01/12/2020</td>\n",
       "      <td>2</td>\n",
       "      <td>Łódź</td>\n",
       "      <td>Warszawa</td>\n",
       "      <td>131</td>\n",
       "      <td>106</td>\n",
       "      <td>74.15</td>\n",
       "      <td>83.1</td>\n",
       "      <td>349</td>\n",
       "      <td>Piotr Żyła</td>\n",
       "      <td>Krzysztof Ibisz</td>\n",
       "    </tr>\n",
       "    <tr>\n",
       "      <th>2</th>\n",
       "      <td>Podróż z Wrocławia do Rzeszowa z przystankami</td>\n",
       "      <td>12/12/2020</td>\n",
       "      <td>1</td>\n",
       "      <td>Wrocław</td>\n",
       "      <td>Katowice</td>\n",
       "      <td>195</td>\n",
       "      <td>130</td>\n",
       "      <td>90</td>\n",
       "      <td>87.92</td>\n",
       "      <td>444</td>\n",
       "      <td>Adam Nowak</td>\n",
       "      <td>Anna Kowalska,Jarosław Jakimowicz</td>\n",
       "    </tr>\n",
       "    <tr>\n",
       "      <th>3</th>\n",
       "      <td>Podróż z Wrocławia do Rzeszowa z przystankami</td>\n",
       "      <td>12/12/2020</td>\n",
       "      <td>2</td>\n",
       "      <td>Katowice</td>\n",
       "      <td>Kraków</td>\n",
       "      <td>79</td>\n",
       "      <td>64</td>\n",
       "      <td>74.06</td>\n",
       "      <td>87.92</td>\n",
       "      <td>444</td>\n",
       "      <td>Adam Nowak</td>\n",
       "      <td>Anna Kowalska,Jarosław Jakimowicz,Edyta Górniak</td>\n",
       "    </tr>\n",
       "    <tr>\n",
       "      <th>4</th>\n",
       "      <td>Podróż z Wrocławia do Rzeszowa z przystankami</td>\n",
       "      <td>12/12/2020</td>\n",
       "      <td>3</td>\n",
       "      <td>Kraków</td>\n",
       "      <td>Rzeszów</td>\n",
       "      <td>170</td>\n",
       "      <td>109</td>\n",
       "      <td>93.58</td>\n",
       "      <td>87.92</td>\n",
       "      <td>444</td>\n",
       "      <td>Adam Nowak</td>\n",
       "      <td>Edyta Górniak</td>\n",
       "    </tr>\n",
       "    <tr>\n",
       "      <th>5</th>\n",
       "      <td>Podróż z Warszawy do Katowic - stajemy też w Ł...</td>\n",
       "      <td>08/12/2020</td>\n",
       "      <td>1</td>\n",
       "      <td>Warszawa</td>\n",
       "      <td>Łódź</td>\n",
       "      <td>131</td>\n",
       "      <td>92</td>\n",
       "      <td>85.43</td>\n",
       "      <td>76.7</td>\n",
       "      <td>418</td>\n",
       "      <td>Edyta Górniak</td>\n",
       "      <td>Jarosław Jakimowicz,Adam Nowak</td>\n",
       "    </tr>\n",
       "    <tr>\n",
       "      <th>6</th>\n",
       "      <td>Podróż z Warszawy do Katowic - stajemy też w Ł...</td>\n",
       "      <td>08/12/2020</td>\n",
       "      <td>2</td>\n",
       "      <td>Łódź</td>\n",
       "      <td>Katowice</td>\n",
       "      <td>287</td>\n",
       "      <td>235</td>\n",
       "      <td>73.28</td>\n",
       "      <td>76.7</td>\n",
       "      <td>418</td>\n",
       "      <td>Edyta Górniak</td>\n",
       "      <td>Jarosław Jakimowicz</td>\n",
       "    </tr>\n",
       "  </tbody>\n",
       "</table>\n",
       "</div>"
      ],
      "text/plain": [
       "                                  travel_description travel_date  \\\n",
       "0           Podróż z Poznania do Warszawy przez Łódź  01/12/2020   \n",
       "1           Podróż z Poznania do Warszawy przez Łódź  01/12/2020   \n",
       "2      Podróż z Wrocławia do Rzeszowa z przystankami  12/12/2020   \n",
       "3      Podróż z Wrocławia do Rzeszowa z przystankami  12/12/2020   \n",
       "4      Podróż z Wrocławia do Rzeszowa z przystankami  12/12/2020   \n",
       "5  Podróż z Warszawy do Katowic - stajemy też w Ł...  08/12/2020   \n",
       "6  Podróż z Warszawy do Katowic - stajemy też w Ł...  08/12/2020   \n",
       "\n",
       "  section_order city_from   city_to section_distance_km section_time_min  \\\n",
       "0             1    Poznań      Łódź                 218              146   \n",
       "1             2      Łódź  Warszawa                 131              106   \n",
       "2             1   Wrocław  Katowice                 195              130   \n",
       "3             2  Katowice    Kraków                  79               64   \n",
       "4             3    Kraków   Rzeszów                 170              109   \n",
       "5             1  Warszawa      Łódź                 131               92   \n",
       "6             2      Łódź  Katowice                 287              235   \n",
       "\n",
       "  section_avg_speed_km_h travel_avg_speed_km_h travel_total_distance_km  \\\n",
       "0                  89.59                  83.1                      349   \n",
       "1                  74.15                  83.1                      349   \n",
       "2                     90                 87.92                      444   \n",
       "3                  74.06                 87.92                      444   \n",
       "4                  93.58                 87.92                      444   \n",
       "5                  85.43                  76.7                      418   \n",
       "6                  73.28                  76.7                      418   \n",
       "\n",
       "     driver_name                                 other_passengers  \n",
       "0     Piotr Żyła                    Krzysztof Ibisz,Edyta Górniak  \n",
       "1     Piotr Żyła                                  Krzysztof Ibisz  \n",
       "2     Adam Nowak                Anna Kowalska,Jarosław Jakimowicz  \n",
       "3     Adam Nowak  Anna Kowalska,Jarosław Jakimowicz,Edyta Górniak  \n",
       "4     Adam Nowak                                    Edyta Górniak  \n",
       "5  Edyta Górniak                   Jarosław Jakimowicz,Adam Nowak  \n",
       "6  Edyta Górniak                              Jarosław Jakimowicz  "
      ]
     },
     "execution_count": 6,
     "metadata": {},
     "output_type": "execute_result"
    }
   ],
   "source": [
    "df = pd.DataFrame(data_content, columns = data_columns)\n",
    "\n",
    "df"
   ]
  },
  {
   "cell_type": "code",
   "execution_count": 7,
   "id": "129a4db3-2d40-4564-9c96-e019e6b07286",
   "metadata": {},
   "outputs": [],
   "source": [
    "# Entities: Travels, Cities, Drivers, Passengers, Sections(?)"
   ]
  },
  {
   "cell_type": "markdown",
   "id": "01c0f2ee-9dc6-4836-8d9c-58d19fa36f7b",
   "metadata": {
    "tags": []
   },
   "source": [
    "# Travels data frame"
   ]
  },
  {
   "cell_type": "code",
   "execution_count": 8,
   "id": "af7cd108-c627-4fe4-a5aa-3cf6286e4cff",
   "metadata": {},
   "outputs": [
    {
     "data": {
      "text/html": [
       "<div>\n",
       "<style scoped>\n",
       "    .dataframe tbody tr th:only-of-type {\n",
       "        vertical-align: middle;\n",
       "    }\n",
       "\n",
       "    .dataframe tbody tr th {\n",
       "        vertical-align: top;\n",
       "    }\n",
       "\n",
       "    .dataframe thead th {\n",
       "        text-align: right;\n",
       "    }\n",
       "</style>\n",
       "<table border=\"1\" class=\"dataframe\">\n",
       "  <thead>\n",
       "    <tr style=\"text-align: right;\">\n",
       "      <th></th>\n",
       "      <th>travel_description</th>\n",
       "      <th>travel_date</th>\n",
       "      <th>travel_avg_speed_km_h</th>\n",
       "      <th>travel_total_distance_km</th>\n",
       "    </tr>\n",
       "  </thead>\n",
       "  <tbody>\n",
       "    <tr>\n",
       "      <th>0</th>\n",
       "      <td>Podróż z Poznania do Warszawy przez Łódź</td>\n",
       "      <td>01/12/2020</td>\n",
       "      <td>83.1</td>\n",
       "      <td>349</td>\n",
       "    </tr>\n",
       "    <tr>\n",
       "      <th>2</th>\n",
       "      <td>Podróż z Wrocławia do Rzeszowa z przystankami</td>\n",
       "      <td>12/12/2020</td>\n",
       "      <td>87.92</td>\n",
       "      <td>444</td>\n",
       "    </tr>\n",
       "    <tr>\n",
       "      <th>5</th>\n",
       "      <td>Podróż z Warszawy do Katowic - stajemy też w Ł...</td>\n",
       "      <td>08/12/2020</td>\n",
       "      <td>76.7</td>\n",
       "      <td>418</td>\n",
       "    </tr>\n",
       "  </tbody>\n",
       "</table>\n",
       "</div>"
      ],
      "text/plain": [
       "                                  travel_description travel_date  \\\n",
       "0           Podróż z Poznania do Warszawy przez Łódź  01/12/2020   \n",
       "2      Podróż z Wrocławia do Rzeszowa z przystankami  12/12/2020   \n",
       "5  Podróż z Warszawy do Katowic - stajemy też w Ł...  08/12/2020   \n",
       "\n",
       "  travel_avg_speed_km_h travel_total_distance_km  \n",
       "0                  83.1                      349  \n",
       "2                 87.92                      444  \n",
       "5                  76.7                      418  "
      ]
     },
     "execution_count": 8,
     "metadata": {},
     "output_type": "execute_result"
    }
   ],
   "source": [
    "travels_df = df.loc[:, [\"travel_description\", \"travel_date\", \"travel_avg_speed_km_h\", \"travel_total_distance_km\"]]\n",
    "\n",
    "travels_df = travels_df.drop_duplicates()\n",
    "travels_df"
   ]
  },
  {
   "cell_type": "markdown",
   "id": "4170d517-0535-4b05-912b-1c66a0dbb7b8",
   "metadata": {
    "tags": []
   },
   "source": [
    "# Cities data frame"
   ]
  },
  {
   "cell_type": "code",
   "execution_count": 9,
   "id": "97bda76d-44a4-44d1-8e72-a39497376cc6",
   "metadata": {},
   "outputs": [
    {
     "data": {
      "text/html": [
       "<div>\n",
       "<style scoped>\n",
       "    .dataframe tbody tr th:only-of-type {\n",
       "        vertical-align: middle;\n",
       "    }\n",
       "\n",
       "    .dataframe tbody tr th {\n",
       "        vertical-align: top;\n",
       "    }\n",
       "\n",
       "    .dataframe thead th {\n",
       "        text-align: right;\n",
       "    }\n",
       "</style>\n",
       "<table border=\"1\" class=\"dataframe\">\n",
       "  <thead>\n",
       "    <tr style=\"text-align: right;\">\n",
       "      <th></th>\n",
       "      <th>city_from</th>\n",
       "      <th>city_to</th>\n",
       "    </tr>\n",
       "  </thead>\n",
       "  <tbody>\n",
       "    <tr>\n",
       "      <th>0</th>\n",
       "      <td>Poznań</td>\n",
       "      <td>Łódź</td>\n",
       "    </tr>\n",
       "    <tr>\n",
       "      <th>1</th>\n",
       "      <td>Łódź</td>\n",
       "      <td>Warszawa</td>\n",
       "    </tr>\n",
       "    <tr>\n",
       "      <th>2</th>\n",
       "      <td>Wrocław</td>\n",
       "      <td>Katowice</td>\n",
       "    </tr>\n",
       "    <tr>\n",
       "      <th>3</th>\n",
       "      <td>Katowice</td>\n",
       "      <td>Kraków</td>\n",
       "    </tr>\n",
       "    <tr>\n",
       "      <th>4</th>\n",
       "      <td>Kraków</td>\n",
       "      <td>Rzeszów</td>\n",
       "    </tr>\n",
       "    <tr>\n",
       "      <th>5</th>\n",
       "      <td>Warszawa</td>\n",
       "      <td>Łódź</td>\n",
       "    </tr>\n",
       "    <tr>\n",
       "      <th>6</th>\n",
       "      <td>Łódź</td>\n",
       "      <td>Katowice</td>\n",
       "    </tr>\n",
       "  </tbody>\n",
       "</table>\n",
       "</div>"
      ],
      "text/plain": [
       "  city_from   city_to\n",
       "0    Poznań      Łódź\n",
       "1      Łódź  Warszawa\n",
       "2   Wrocław  Katowice\n",
       "3  Katowice    Kraków\n",
       "4    Kraków   Rzeszów\n",
       "5  Warszawa      Łódź\n",
       "6      Łódź  Katowice"
      ]
     },
     "execution_count": 9,
     "metadata": {},
     "output_type": "execute_result"
    }
   ],
   "source": [
    "c_df = df[[\"city_from\", \"city_to\"]]\n",
    "c_df"
   ]
  },
  {
   "cell_type": "code",
   "execution_count": 10,
   "id": "51cea99d-e93f-4a4c-b579-f5e364871ea1",
   "metadata": {},
   "outputs": [],
   "source": [
    "cities_melted_df = pd.melt(c_df)"
   ]
  },
  {
   "cell_type": "code",
   "execution_count": 11,
   "id": "deb7819e-3a68-45b0-9fd2-75f46a263aa5",
   "metadata": {},
   "outputs": [
    {
     "data": {
      "text/html": [
       "<div>\n",
       "<style scoped>\n",
       "    .dataframe tbody tr th:only-of-type {\n",
       "        vertical-align: middle;\n",
       "    }\n",
       "\n",
       "    .dataframe tbody tr th {\n",
       "        vertical-align: top;\n",
       "    }\n",
       "\n",
       "    .dataframe thead th {\n",
       "        text-align: right;\n",
       "    }\n",
       "</style>\n",
       "<table border=\"1\" class=\"dataframe\">\n",
       "  <thead>\n",
       "    <tr style=\"text-align: right;\">\n",
       "      <th></th>\n",
       "      <th>variable</th>\n",
       "      <th>value</th>\n",
       "    </tr>\n",
       "  </thead>\n",
       "  <tbody>\n",
       "    <tr>\n",
       "      <th>0</th>\n",
       "      <td>city_from</td>\n",
       "      <td>Poznań</td>\n",
       "    </tr>\n",
       "    <tr>\n",
       "      <th>1</th>\n",
       "      <td>city_from</td>\n",
       "      <td>Łódź</td>\n",
       "    </tr>\n",
       "    <tr>\n",
       "      <th>2</th>\n",
       "      <td>city_from</td>\n",
       "      <td>Wrocław</td>\n",
       "    </tr>\n",
       "    <tr>\n",
       "      <th>3</th>\n",
       "      <td>city_from</td>\n",
       "      <td>Katowice</td>\n",
       "    </tr>\n",
       "    <tr>\n",
       "      <th>4</th>\n",
       "      <td>city_from</td>\n",
       "      <td>Kraków</td>\n",
       "    </tr>\n",
       "    <tr>\n",
       "      <th>5</th>\n",
       "      <td>city_from</td>\n",
       "      <td>Warszawa</td>\n",
       "    </tr>\n",
       "    <tr>\n",
       "      <th>6</th>\n",
       "      <td>city_from</td>\n",
       "      <td>Łódź</td>\n",
       "    </tr>\n",
       "    <tr>\n",
       "      <th>7</th>\n",
       "      <td>city_to</td>\n",
       "      <td>Łódź</td>\n",
       "    </tr>\n",
       "    <tr>\n",
       "      <th>8</th>\n",
       "      <td>city_to</td>\n",
       "      <td>Warszawa</td>\n",
       "    </tr>\n",
       "    <tr>\n",
       "      <th>9</th>\n",
       "      <td>city_to</td>\n",
       "      <td>Katowice</td>\n",
       "    </tr>\n",
       "    <tr>\n",
       "      <th>10</th>\n",
       "      <td>city_to</td>\n",
       "      <td>Kraków</td>\n",
       "    </tr>\n",
       "    <tr>\n",
       "      <th>11</th>\n",
       "      <td>city_to</td>\n",
       "      <td>Rzeszów</td>\n",
       "    </tr>\n",
       "    <tr>\n",
       "      <th>12</th>\n",
       "      <td>city_to</td>\n",
       "      <td>Łódź</td>\n",
       "    </tr>\n",
       "    <tr>\n",
       "      <th>13</th>\n",
       "      <td>city_to</td>\n",
       "      <td>Katowice</td>\n",
       "    </tr>\n",
       "  </tbody>\n",
       "</table>\n",
       "</div>"
      ],
      "text/plain": [
       "     variable     value\n",
       "0   city_from    Poznań\n",
       "1   city_from      Łódź\n",
       "2   city_from   Wrocław\n",
       "3   city_from  Katowice\n",
       "4   city_from    Kraków\n",
       "5   city_from  Warszawa\n",
       "6   city_from      Łódź\n",
       "7     city_to      Łódź\n",
       "8     city_to  Warszawa\n",
       "9     city_to  Katowice\n",
       "10    city_to    Kraków\n",
       "11    city_to   Rzeszów\n",
       "12    city_to      Łódź\n",
       "13    city_to  Katowice"
      ]
     },
     "execution_count": 11,
     "metadata": {},
     "output_type": "execute_result"
    }
   ],
   "source": [
    "cities_melted_df"
   ]
  },
  {
   "cell_type": "code",
   "execution_count": 12,
   "id": "ac3957e5-7584-4cf3-871d-2ff83377ec00",
   "metadata": {},
   "outputs": [],
   "source": [
    "cities_array = cities_melted_df[\"value\"].unique()"
   ]
  },
  {
   "cell_type": "code",
   "execution_count": 13,
   "id": "a397a19e-c868-4da6-8e92-797ebb4567c7",
   "metadata": {},
   "outputs": [],
   "source": [
    "cities_df_unique = pd.DataFrame(data = cities_array)"
   ]
  },
  {
   "cell_type": "code",
   "execution_count": 14,
   "id": "2ec17cd7-0f75-46b4-9d18-c717c55aaf1c",
   "metadata": {},
   "outputs": [
    {
     "data": {
      "text/html": [
       "<div>\n",
       "<style scoped>\n",
       "    .dataframe tbody tr th:only-of-type {\n",
       "        vertical-align: middle;\n",
       "    }\n",
       "\n",
       "    .dataframe tbody tr th {\n",
       "        vertical-align: top;\n",
       "    }\n",
       "\n",
       "    .dataframe thead th {\n",
       "        text-align: right;\n",
       "    }\n",
       "</style>\n",
       "<table border=\"1\" class=\"dataframe\">\n",
       "  <thead>\n",
       "    <tr style=\"text-align: right;\">\n",
       "      <th></th>\n",
       "      <th>0</th>\n",
       "    </tr>\n",
       "  </thead>\n",
       "  <tbody>\n",
       "    <tr>\n",
       "      <th>0</th>\n",
       "      <td>Poznań</td>\n",
       "    </tr>\n",
       "    <tr>\n",
       "      <th>1</th>\n",
       "      <td>Łódź</td>\n",
       "    </tr>\n",
       "    <tr>\n",
       "      <th>2</th>\n",
       "      <td>Wrocław</td>\n",
       "    </tr>\n",
       "    <tr>\n",
       "      <th>3</th>\n",
       "      <td>Katowice</td>\n",
       "    </tr>\n",
       "    <tr>\n",
       "      <th>4</th>\n",
       "      <td>Kraków</td>\n",
       "    </tr>\n",
       "    <tr>\n",
       "      <th>5</th>\n",
       "      <td>Warszawa</td>\n",
       "    </tr>\n",
       "    <tr>\n",
       "      <th>6</th>\n",
       "      <td>Rzeszów</td>\n",
       "    </tr>\n",
       "  </tbody>\n",
       "</table>\n",
       "</div>"
      ],
      "text/plain": [
       "          0\n",
       "0    Poznań\n",
       "1      Łódź\n",
       "2   Wrocław\n",
       "3  Katowice\n",
       "4    Kraków\n",
       "5  Warszawa\n",
       "6   Rzeszów"
      ]
     },
     "execution_count": 14,
     "metadata": {},
     "output_type": "execute_result"
    }
   ],
   "source": [
    "cities_df_unique"
   ]
  },
  {
   "cell_type": "code",
   "execution_count": 15,
   "id": "fb743596-d8ff-4e41-b56b-42bb4a806e79",
   "metadata": {},
   "outputs": [],
   "source": [
    "cities_df = cities_df_unique.rename({0: \"city_name\"}, axis='columns')"
   ]
  },
  {
   "cell_type": "code",
   "execution_count": 16,
   "id": "dfcec2d2-4ae1-420c-842b-9b69ea4bbc74",
   "metadata": {},
   "outputs": [
    {
     "data": {
      "text/html": [
       "<div>\n",
       "<style scoped>\n",
       "    .dataframe tbody tr th:only-of-type {\n",
       "        vertical-align: middle;\n",
       "    }\n",
       "\n",
       "    .dataframe tbody tr th {\n",
       "        vertical-align: top;\n",
       "    }\n",
       "\n",
       "    .dataframe thead th {\n",
       "        text-align: right;\n",
       "    }\n",
       "</style>\n",
       "<table border=\"1\" class=\"dataframe\">\n",
       "  <thead>\n",
       "    <tr style=\"text-align: right;\">\n",
       "      <th></th>\n",
       "      <th>city_name</th>\n",
       "    </tr>\n",
       "  </thead>\n",
       "  <tbody>\n",
       "    <tr>\n",
       "      <th>0</th>\n",
       "      <td>Poznań</td>\n",
       "    </tr>\n",
       "    <tr>\n",
       "      <th>1</th>\n",
       "      <td>Łódź</td>\n",
       "    </tr>\n",
       "    <tr>\n",
       "      <th>2</th>\n",
       "      <td>Wrocław</td>\n",
       "    </tr>\n",
       "    <tr>\n",
       "      <th>3</th>\n",
       "      <td>Katowice</td>\n",
       "    </tr>\n",
       "    <tr>\n",
       "      <th>4</th>\n",
       "      <td>Kraków</td>\n",
       "    </tr>\n",
       "    <tr>\n",
       "      <th>5</th>\n",
       "      <td>Warszawa</td>\n",
       "    </tr>\n",
       "    <tr>\n",
       "      <th>6</th>\n",
       "      <td>Rzeszów</td>\n",
       "    </tr>\n",
       "  </tbody>\n",
       "</table>\n",
       "</div>"
      ],
      "text/plain": [
       "  city_name\n",
       "0    Poznań\n",
       "1      Łódź\n",
       "2   Wrocław\n",
       "3  Katowice\n",
       "4    Kraków\n",
       "5  Warszawa\n",
       "6   Rzeszów"
      ]
     },
     "execution_count": 16,
     "metadata": {},
     "output_type": "execute_result"
    }
   ],
   "source": [
    "cities_df"
   ]
  },
  {
   "cell_type": "markdown",
   "id": "ac28a01b-af23-4bdc-98f1-d24c62412f51",
   "metadata": {
    "tags": []
   },
   "source": [
    "# Sections data frame"
   ]
  },
  {
   "cell_type": "code",
   "execution_count": 17,
   "id": "99524012-076d-4f7d-ac49-eff9d6511efd",
   "metadata": {},
   "outputs": [],
   "source": [
    "sections_df = df.loc[:, [\"travel_description\", \"section_order\", \"city_from\", \"city_to\", \"section_distance_km\", \"section_time_min\", \"section_avg_speed_km_h\"]]\n",
    "#sections_df[\"section_id\"] = df.index + 1\n",
    "\n",
    "\n",
    "#cols = list(sections_df.columns)\n",
    "#cols = [cols[-1]] + cols[:-1]\n",
    "#sections_df = sections_df[cols]"
   ]
  },
  {
   "cell_type": "code",
   "execution_count": 18,
   "id": "2551ed20-69e2-4609-8c90-4e05ba155d1b",
   "metadata": {},
   "outputs": [
    {
     "data": {
      "text/html": [
       "<div>\n",
       "<style scoped>\n",
       "    .dataframe tbody tr th:only-of-type {\n",
       "        vertical-align: middle;\n",
       "    }\n",
       "\n",
       "    .dataframe tbody tr th {\n",
       "        vertical-align: top;\n",
       "    }\n",
       "\n",
       "    .dataframe thead th {\n",
       "        text-align: right;\n",
       "    }\n",
       "</style>\n",
       "<table border=\"1\" class=\"dataframe\">\n",
       "  <thead>\n",
       "    <tr style=\"text-align: right;\">\n",
       "      <th></th>\n",
       "      <th>travel_description</th>\n",
       "      <th>section_order</th>\n",
       "      <th>city_from</th>\n",
       "      <th>city_to</th>\n",
       "      <th>section_distance_km</th>\n",
       "      <th>section_time_min</th>\n",
       "      <th>section_avg_speed_km_h</th>\n",
       "    </tr>\n",
       "  </thead>\n",
       "  <tbody>\n",
       "    <tr>\n",
       "      <th>0</th>\n",
       "      <td>Podróż z Poznania do Warszawy przez Łódź</td>\n",
       "      <td>1</td>\n",
       "      <td>Poznań</td>\n",
       "      <td>Łódź</td>\n",
       "      <td>218</td>\n",
       "      <td>146</td>\n",
       "      <td>89.59</td>\n",
       "    </tr>\n",
       "    <tr>\n",
       "      <th>1</th>\n",
       "      <td>Podróż z Poznania do Warszawy przez Łódź</td>\n",
       "      <td>2</td>\n",
       "      <td>Łódź</td>\n",
       "      <td>Warszawa</td>\n",
       "      <td>131</td>\n",
       "      <td>106</td>\n",
       "      <td>74.15</td>\n",
       "    </tr>\n",
       "    <tr>\n",
       "      <th>2</th>\n",
       "      <td>Podróż z Wrocławia do Rzeszowa z przystankami</td>\n",
       "      <td>1</td>\n",
       "      <td>Wrocław</td>\n",
       "      <td>Katowice</td>\n",
       "      <td>195</td>\n",
       "      <td>130</td>\n",
       "      <td>90</td>\n",
       "    </tr>\n",
       "    <tr>\n",
       "      <th>3</th>\n",
       "      <td>Podróż z Wrocławia do Rzeszowa z przystankami</td>\n",
       "      <td>2</td>\n",
       "      <td>Katowice</td>\n",
       "      <td>Kraków</td>\n",
       "      <td>79</td>\n",
       "      <td>64</td>\n",
       "      <td>74.06</td>\n",
       "    </tr>\n",
       "    <tr>\n",
       "      <th>4</th>\n",
       "      <td>Podróż z Wrocławia do Rzeszowa z przystankami</td>\n",
       "      <td>3</td>\n",
       "      <td>Kraków</td>\n",
       "      <td>Rzeszów</td>\n",
       "      <td>170</td>\n",
       "      <td>109</td>\n",
       "      <td>93.58</td>\n",
       "    </tr>\n",
       "    <tr>\n",
       "      <th>5</th>\n",
       "      <td>Podróż z Warszawy do Katowic - stajemy też w Ł...</td>\n",
       "      <td>1</td>\n",
       "      <td>Warszawa</td>\n",
       "      <td>Łódź</td>\n",
       "      <td>131</td>\n",
       "      <td>92</td>\n",
       "      <td>85.43</td>\n",
       "    </tr>\n",
       "    <tr>\n",
       "      <th>6</th>\n",
       "      <td>Podróż z Warszawy do Katowic - stajemy też w Ł...</td>\n",
       "      <td>2</td>\n",
       "      <td>Łódź</td>\n",
       "      <td>Katowice</td>\n",
       "      <td>287</td>\n",
       "      <td>235</td>\n",
       "      <td>73.28</td>\n",
       "    </tr>\n",
       "  </tbody>\n",
       "</table>\n",
       "</div>"
      ],
      "text/plain": [
       "                                  travel_description section_order city_from  \\\n",
       "0           Podróż z Poznania do Warszawy przez Łódź             1    Poznań   \n",
       "1           Podróż z Poznania do Warszawy przez Łódź             2      Łódź   \n",
       "2      Podróż z Wrocławia do Rzeszowa z przystankami             1   Wrocław   \n",
       "3      Podróż z Wrocławia do Rzeszowa z przystankami             2  Katowice   \n",
       "4      Podróż z Wrocławia do Rzeszowa z przystankami             3    Kraków   \n",
       "5  Podróż z Warszawy do Katowic - stajemy też w Ł...             1  Warszawa   \n",
       "6  Podróż z Warszawy do Katowic - stajemy też w Ł...             2      Łódź   \n",
       "\n",
       "    city_to section_distance_km section_time_min section_avg_speed_km_h  \n",
       "0      Łódź                 218              146                  89.59  \n",
       "1  Warszawa                 131              106                  74.15  \n",
       "2  Katowice                 195              130                     90  \n",
       "3    Kraków                  79               64                  74.06  \n",
       "4   Rzeszów                 170              109                  93.58  \n",
       "5      Łódź                 131               92                  85.43  \n",
       "6  Katowice                 287              235                  73.28  "
      ]
     },
     "execution_count": 18,
     "metadata": {},
     "output_type": "execute_result"
    }
   ],
   "source": [
    "sections_df"
   ]
  },
  {
   "cell_type": "markdown",
   "id": "d0e3ae29-607b-48fe-8256-96f605f832ae",
   "metadata": {
    "tags": []
   },
   "source": [
    "# Drivers data frame"
   ]
  },
  {
   "cell_type": "code",
   "execution_count": 19,
   "id": "c0dfa345-6b5d-4fa3-bd69-8aca9d3e3884",
   "metadata": {},
   "outputs": [],
   "source": [
    "ddr_df = df[[\"travel_description\", \"section_order\", \"driver_name\", \"other_passengers\"]]\n",
    "# \"travel_description\""
   ]
  },
  {
   "cell_type": "code",
   "execution_count": 20,
   "id": "a642c389-965f-49f4-a4ec-86184af94ccd",
   "metadata": {},
   "outputs": [
    {
     "data": {
      "text/html": [
       "<div>\n",
       "<style scoped>\n",
       "    .dataframe tbody tr th:only-of-type {\n",
       "        vertical-align: middle;\n",
       "    }\n",
       "\n",
       "    .dataframe tbody tr th {\n",
       "        vertical-align: top;\n",
       "    }\n",
       "\n",
       "    .dataframe thead th {\n",
       "        text-align: right;\n",
       "    }\n",
       "</style>\n",
       "<table border=\"1\" class=\"dataframe\">\n",
       "  <thead>\n",
       "    <tr style=\"text-align: right;\">\n",
       "      <th></th>\n",
       "      <th>travel_description</th>\n",
       "      <th>section_order</th>\n",
       "      <th>driver_name</th>\n",
       "      <th>other_passengers</th>\n",
       "    </tr>\n",
       "  </thead>\n",
       "  <tbody>\n",
       "    <tr>\n",
       "      <th>0</th>\n",
       "      <td>Podróż z Poznania do Warszawy przez Łódź</td>\n",
       "      <td>1</td>\n",
       "      <td>Piotr Żyła</td>\n",
       "      <td>Krzysztof Ibisz,Edyta Górniak</td>\n",
       "    </tr>\n",
       "    <tr>\n",
       "      <th>1</th>\n",
       "      <td>Podróż z Poznania do Warszawy przez Łódź</td>\n",
       "      <td>2</td>\n",
       "      <td>Piotr Żyła</td>\n",
       "      <td>Krzysztof Ibisz</td>\n",
       "    </tr>\n",
       "    <tr>\n",
       "      <th>2</th>\n",
       "      <td>Podróż z Wrocławia do Rzeszowa z przystankami</td>\n",
       "      <td>1</td>\n",
       "      <td>Adam Nowak</td>\n",
       "      <td>Anna Kowalska,Jarosław Jakimowicz</td>\n",
       "    </tr>\n",
       "    <tr>\n",
       "      <th>3</th>\n",
       "      <td>Podróż z Wrocławia do Rzeszowa z przystankami</td>\n",
       "      <td>2</td>\n",
       "      <td>Adam Nowak</td>\n",
       "      <td>Anna Kowalska,Jarosław Jakimowicz,Edyta Górniak</td>\n",
       "    </tr>\n",
       "    <tr>\n",
       "      <th>4</th>\n",
       "      <td>Podróż z Wrocławia do Rzeszowa z przystankami</td>\n",
       "      <td>3</td>\n",
       "      <td>Adam Nowak</td>\n",
       "      <td>Edyta Górniak</td>\n",
       "    </tr>\n",
       "    <tr>\n",
       "      <th>5</th>\n",
       "      <td>Podróż z Warszawy do Katowic - stajemy też w Ł...</td>\n",
       "      <td>1</td>\n",
       "      <td>Edyta Górniak</td>\n",
       "      <td>Jarosław Jakimowicz,Adam Nowak</td>\n",
       "    </tr>\n",
       "    <tr>\n",
       "      <th>6</th>\n",
       "      <td>Podróż z Warszawy do Katowic - stajemy też w Ł...</td>\n",
       "      <td>2</td>\n",
       "      <td>Edyta Górniak</td>\n",
       "      <td>Jarosław Jakimowicz</td>\n",
       "    </tr>\n",
       "  </tbody>\n",
       "</table>\n",
       "</div>"
      ],
      "text/plain": [
       "                                  travel_description section_order  \\\n",
       "0           Podróż z Poznania do Warszawy przez Łódź             1   \n",
       "1           Podróż z Poznania do Warszawy przez Łódź             2   \n",
       "2      Podróż z Wrocławia do Rzeszowa z przystankami             1   \n",
       "3      Podróż z Wrocławia do Rzeszowa z przystankami             2   \n",
       "4      Podróż z Wrocławia do Rzeszowa z przystankami             3   \n",
       "5  Podróż z Warszawy do Katowic - stajemy też w Ł...             1   \n",
       "6  Podróż z Warszawy do Katowic - stajemy też w Ł...             2   \n",
       "\n",
       "     driver_name                                 other_passengers  \n",
       "0     Piotr Żyła                    Krzysztof Ibisz,Edyta Górniak  \n",
       "1     Piotr Żyła                                  Krzysztof Ibisz  \n",
       "2     Adam Nowak                Anna Kowalska,Jarosław Jakimowicz  \n",
       "3     Adam Nowak  Anna Kowalska,Jarosław Jakimowicz,Edyta Górniak  \n",
       "4     Adam Nowak                                    Edyta Górniak  \n",
       "5  Edyta Górniak                   Jarosław Jakimowicz,Adam Nowak  \n",
       "6  Edyta Górniak                              Jarosław Jakimowicz  "
      ]
     },
     "execution_count": 20,
     "metadata": {},
     "output_type": "execute_result"
    }
   ],
   "source": [
    "ddr_df"
   ]
  },
  {
   "cell_type": "code",
   "execution_count": 21,
   "id": "f0cf612c-db0b-4c34-8b28-6a57b53e8170",
   "metadata": {},
   "outputs": [],
   "source": [
    "people_df_dup = (\n",
    "    ddr_df.assign(other_passengers=ddr_df.other_passengers.str.split(','))\n",
    "    .explode('other_passengers')\n",
    ")"
   ]
  },
  {
   "cell_type": "code",
   "execution_count": 22,
   "id": "9f6c849d-a537-448f-b492-fb078bcdea22",
   "metadata": {},
   "outputs": [
    {
     "data": {
      "text/html": [
       "<div>\n",
       "<style scoped>\n",
       "    .dataframe tbody tr th:only-of-type {\n",
       "        vertical-align: middle;\n",
       "    }\n",
       "\n",
       "    .dataframe tbody tr th {\n",
       "        vertical-align: top;\n",
       "    }\n",
       "\n",
       "    .dataframe thead th {\n",
       "        text-align: right;\n",
       "    }\n",
       "</style>\n",
       "<table border=\"1\" class=\"dataframe\">\n",
       "  <thead>\n",
       "    <tr style=\"text-align: right;\">\n",
       "      <th></th>\n",
       "      <th>travel_description</th>\n",
       "      <th>section_order</th>\n",
       "      <th>driver_name</th>\n",
       "      <th>other_passengers</th>\n",
       "    </tr>\n",
       "  </thead>\n",
       "  <tbody>\n",
       "    <tr>\n",
       "      <th>0</th>\n",
       "      <td>Podróż z Poznania do Warszawy przez Łódź</td>\n",
       "      <td>1</td>\n",
       "      <td>Piotr Żyła</td>\n",
       "      <td>Krzysztof Ibisz</td>\n",
       "    </tr>\n",
       "    <tr>\n",
       "      <th>0</th>\n",
       "      <td>Podróż z Poznania do Warszawy przez Łódź</td>\n",
       "      <td>1</td>\n",
       "      <td>Piotr Żyła</td>\n",
       "      <td>Edyta Górniak</td>\n",
       "    </tr>\n",
       "    <tr>\n",
       "      <th>1</th>\n",
       "      <td>Podróż z Poznania do Warszawy przez Łódź</td>\n",
       "      <td>2</td>\n",
       "      <td>Piotr Żyła</td>\n",
       "      <td>Krzysztof Ibisz</td>\n",
       "    </tr>\n",
       "    <tr>\n",
       "      <th>2</th>\n",
       "      <td>Podróż z Wrocławia do Rzeszowa z przystankami</td>\n",
       "      <td>1</td>\n",
       "      <td>Adam Nowak</td>\n",
       "      <td>Anna Kowalska</td>\n",
       "    </tr>\n",
       "    <tr>\n",
       "      <th>2</th>\n",
       "      <td>Podróż z Wrocławia do Rzeszowa z przystankami</td>\n",
       "      <td>1</td>\n",
       "      <td>Adam Nowak</td>\n",
       "      <td>Jarosław Jakimowicz</td>\n",
       "    </tr>\n",
       "    <tr>\n",
       "      <th>3</th>\n",
       "      <td>Podróż z Wrocławia do Rzeszowa z przystankami</td>\n",
       "      <td>2</td>\n",
       "      <td>Adam Nowak</td>\n",
       "      <td>Anna Kowalska</td>\n",
       "    </tr>\n",
       "    <tr>\n",
       "      <th>3</th>\n",
       "      <td>Podróż z Wrocławia do Rzeszowa z przystankami</td>\n",
       "      <td>2</td>\n",
       "      <td>Adam Nowak</td>\n",
       "      <td>Jarosław Jakimowicz</td>\n",
       "    </tr>\n",
       "    <tr>\n",
       "      <th>3</th>\n",
       "      <td>Podróż z Wrocławia do Rzeszowa z przystankami</td>\n",
       "      <td>2</td>\n",
       "      <td>Adam Nowak</td>\n",
       "      <td>Edyta Górniak</td>\n",
       "    </tr>\n",
       "    <tr>\n",
       "      <th>4</th>\n",
       "      <td>Podróż z Wrocławia do Rzeszowa z przystankami</td>\n",
       "      <td>3</td>\n",
       "      <td>Adam Nowak</td>\n",
       "      <td>Edyta Górniak</td>\n",
       "    </tr>\n",
       "    <tr>\n",
       "      <th>5</th>\n",
       "      <td>Podróż z Warszawy do Katowic - stajemy też w Ł...</td>\n",
       "      <td>1</td>\n",
       "      <td>Edyta Górniak</td>\n",
       "      <td>Jarosław Jakimowicz</td>\n",
       "    </tr>\n",
       "    <tr>\n",
       "      <th>5</th>\n",
       "      <td>Podróż z Warszawy do Katowic - stajemy też w Ł...</td>\n",
       "      <td>1</td>\n",
       "      <td>Edyta Górniak</td>\n",
       "      <td>Adam Nowak</td>\n",
       "    </tr>\n",
       "    <tr>\n",
       "      <th>6</th>\n",
       "      <td>Podróż z Warszawy do Katowic - stajemy też w Ł...</td>\n",
       "      <td>2</td>\n",
       "      <td>Edyta Górniak</td>\n",
       "      <td>Jarosław Jakimowicz</td>\n",
       "    </tr>\n",
       "  </tbody>\n",
       "</table>\n",
       "</div>"
      ],
      "text/plain": [
       "                                  travel_description section_order  \\\n",
       "0           Podróż z Poznania do Warszawy przez Łódź             1   \n",
       "0           Podróż z Poznania do Warszawy przez Łódź             1   \n",
       "1           Podróż z Poznania do Warszawy przez Łódź             2   \n",
       "2      Podróż z Wrocławia do Rzeszowa z przystankami             1   \n",
       "2      Podróż z Wrocławia do Rzeszowa z przystankami             1   \n",
       "3      Podróż z Wrocławia do Rzeszowa z przystankami             2   \n",
       "3      Podróż z Wrocławia do Rzeszowa z przystankami             2   \n",
       "3      Podróż z Wrocławia do Rzeszowa z przystankami             2   \n",
       "4      Podróż z Wrocławia do Rzeszowa z przystankami             3   \n",
       "5  Podróż z Warszawy do Katowic - stajemy też w Ł...             1   \n",
       "5  Podróż z Warszawy do Katowic - stajemy też w Ł...             1   \n",
       "6  Podróż z Warszawy do Katowic - stajemy też w Ł...             2   \n",
       "\n",
       "     driver_name     other_passengers  \n",
       "0     Piotr Żyła      Krzysztof Ibisz  \n",
       "0     Piotr Żyła        Edyta Górniak  \n",
       "1     Piotr Żyła      Krzysztof Ibisz  \n",
       "2     Adam Nowak        Anna Kowalska  \n",
       "2     Adam Nowak  Jarosław Jakimowicz  \n",
       "3     Adam Nowak        Anna Kowalska  \n",
       "3     Adam Nowak  Jarosław Jakimowicz  \n",
       "3     Adam Nowak        Edyta Górniak  \n",
       "4     Adam Nowak        Edyta Górniak  \n",
       "5  Edyta Górniak  Jarosław Jakimowicz  \n",
       "5  Edyta Górniak           Adam Nowak  \n",
       "6  Edyta Górniak  Jarosław Jakimowicz  "
      ]
     },
     "execution_count": 22,
     "metadata": {},
     "output_type": "execute_result"
    }
   ],
   "source": [
    "people_df_dup"
   ]
  },
  {
   "cell_type": "code",
   "execution_count": 23,
   "id": "bc6b8558-ab5d-4185-a0ad-47cf62a6a252",
   "metadata": {},
   "outputs": [],
   "source": [
    "#people_melted_df = pd.melt(people_df_dup)"
   ]
  },
  {
   "cell_type": "code",
   "execution_count": 24,
   "id": "3630ab98-f31a-455e-8ca1-138f6f4c396b",
   "metadata": {},
   "outputs": [],
   "source": [
    "#people_melted_df.drop_duplicates()"
   ]
  },
  {
   "cell_type": "code",
   "execution_count": 25,
   "id": "9fdfef9c-0e6d-4c6f-bd43-68857421a93b",
   "metadata": {},
   "outputs": [],
   "source": [
    "drivers_df = people_df_dup[[\"travel_description\", \"driver_name\"]].drop_duplicates()"
   ]
  },
  {
   "cell_type": "code",
   "execution_count": 26,
   "id": "0c6d1b22-f3bb-4733-83da-0ff72fdbfca2",
   "metadata": {},
   "outputs": [
    {
     "data": {
      "text/html": [
       "<div>\n",
       "<style scoped>\n",
       "    .dataframe tbody tr th:only-of-type {\n",
       "        vertical-align: middle;\n",
       "    }\n",
       "\n",
       "    .dataframe tbody tr th {\n",
       "        vertical-align: top;\n",
       "    }\n",
       "\n",
       "    .dataframe thead th {\n",
       "        text-align: right;\n",
       "    }\n",
       "</style>\n",
       "<table border=\"1\" class=\"dataframe\">\n",
       "  <thead>\n",
       "    <tr style=\"text-align: right;\">\n",
       "      <th></th>\n",
       "      <th>travel_description</th>\n",
       "      <th>driver_name</th>\n",
       "    </tr>\n",
       "  </thead>\n",
       "  <tbody>\n",
       "    <tr>\n",
       "      <th>0</th>\n",
       "      <td>Podróż z Poznania do Warszawy przez Łódź</td>\n",
       "      <td>Piotr Żyła</td>\n",
       "    </tr>\n",
       "    <tr>\n",
       "      <th>2</th>\n",
       "      <td>Podróż z Wrocławia do Rzeszowa z przystankami</td>\n",
       "      <td>Adam Nowak</td>\n",
       "    </tr>\n",
       "    <tr>\n",
       "      <th>5</th>\n",
       "      <td>Podróż z Warszawy do Katowic - stajemy też w Ł...</td>\n",
       "      <td>Edyta Górniak</td>\n",
       "    </tr>\n",
       "  </tbody>\n",
       "</table>\n",
       "</div>"
      ],
      "text/plain": [
       "                                  travel_description    driver_name\n",
       "0           Podróż z Poznania do Warszawy przez Łódź     Piotr Żyła\n",
       "2      Podróż z Wrocławia do Rzeszowa z przystankami     Adam Nowak\n",
       "5  Podróż z Warszawy do Katowic - stajemy też w Ł...  Edyta Górniak"
      ]
     },
     "execution_count": 26,
     "metadata": {},
     "output_type": "execute_result"
    }
   ],
   "source": [
    "drivers_df"
   ]
  },
  {
   "cell_type": "code",
   "execution_count": 27,
   "id": "fcce5840-5145-40e2-a413-d773e3274aef",
   "metadata": {},
   "outputs": [],
   "source": [
    "passengers_sections_sliced = people_df_dup[[\"travel_description\", \"section_order\", \"other_passengers\"]]"
   ]
  },
  {
   "cell_type": "code",
   "execution_count": 28,
   "id": "7325a1d4-270a-4228-b5fb-3cdf4e41da65",
   "metadata": {},
   "outputs": [],
   "source": [
    "passengers_sections_df = passengers_sections_sliced.rename({\"other_passengers\": \"passenger_name\"}, axis='columns')"
   ]
  },
  {
   "cell_type": "code",
   "execution_count": 29,
   "id": "648b096a-f5e2-467b-9b2a-4b8b34e5c38a",
   "metadata": {},
   "outputs": [
    {
     "data": {
      "text/html": [
       "<div>\n",
       "<style scoped>\n",
       "    .dataframe tbody tr th:only-of-type {\n",
       "        vertical-align: middle;\n",
       "    }\n",
       "\n",
       "    .dataframe tbody tr th {\n",
       "        vertical-align: top;\n",
       "    }\n",
       "\n",
       "    .dataframe thead th {\n",
       "        text-align: right;\n",
       "    }\n",
       "</style>\n",
       "<table border=\"1\" class=\"dataframe\">\n",
       "  <thead>\n",
       "    <tr style=\"text-align: right;\">\n",
       "      <th></th>\n",
       "      <th>travel_description</th>\n",
       "      <th>section_order</th>\n",
       "      <th>passenger_name</th>\n",
       "    </tr>\n",
       "  </thead>\n",
       "  <tbody>\n",
       "    <tr>\n",
       "      <th>0</th>\n",
       "      <td>Podróż z Poznania do Warszawy przez Łódź</td>\n",
       "      <td>1</td>\n",
       "      <td>Krzysztof Ibisz</td>\n",
       "    </tr>\n",
       "    <tr>\n",
       "      <th>0</th>\n",
       "      <td>Podróż z Poznania do Warszawy przez Łódź</td>\n",
       "      <td>1</td>\n",
       "      <td>Edyta Górniak</td>\n",
       "    </tr>\n",
       "    <tr>\n",
       "      <th>1</th>\n",
       "      <td>Podróż z Poznania do Warszawy przez Łódź</td>\n",
       "      <td>2</td>\n",
       "      <td>Krzysztof Ibisz</td>\n",
       "    </tr>\n",
       "    <tr>\n",
       "      <th>2</th>\n",
       "      <td>Podróż z Wrocławia do Rzeszowa z przystankami</td>\n",
       "      <td>1</td>\n",
       "      <td>Anna Kowalska</td>\n",
       "    </tr>\n",
       "    <tr>\n",
       "      <th>2</th>\n",
       "      <td>Podróż z Wrocławia do Rzeszowa z przystankami</td>\n",
       "      <td>1</td>\n",
       "      <td>Jarosław Jakimowicz</td>\n",
       "    </tr>\n",
       "    <tr>\n",
       "      <th>3</th>\n",
       "      <td>Podróż z Wrocławia do Rzeszowa z przystankami</td>\n",
       "      <td>2</td>\n",
       "      <td>Anna Kowalska</td>\n",
       "    </tr>\n",
       "    <tr>\n",
       "      <th>3</th>\n",
       "      <td>Podróż z Wrocławia do Rzeszowa z przystankami</td>\n",
       "      <td>2</td>\n",
       "      <td>Jarosław Jakimowicz</td>\n",
       "    </tr>\n",
       "    <tr>\n",
       "      <th>3</th>\n",
       "      <td>Podróż z Wrocławia do Rzeszowa z przystankami</td>\n",
       "      <td>2</td>\n",
       "      <td>Edyta Górniak</td>\n",
       "    </tr>\n",
       "    <tr>\n",
       "      <th>4</th>\n",
       "      <td>Podróż z Wrocławia do Rzeszowa z przystankami</td>\n",
       "      <td>3</td>\n",
       "      <td>Edyta Górniak</td>\n",
       "    </tr>\n",
       "    <tr>\n",
       "      <th>5</th>\n",
       "      <td>Podróż z Warszawy do Katowic - stajemy też w Ł...</td>\n",
       "      <td>1</td>\n",
       "      <td>Jarosław Jakimowicz</td>\n",
       "    </tr>\n",
       "    <tr>\n",
       "      <th>5</th>\n",
       "      <td>Podróż z Warszawy do Katowic - stajemy też w Ł...</td>\n",
       "      <td>1</td>\n",
       "      <td>Adam Nowak</td>\n",
       "    </tr>\n",
       "    <tr>\n",
       "      <th>6</th>\n",
       "      <td>Podróż z Warszawy do Katowic - stajemy też w Ł...</td>\n",
       "      <td>2</td>\n",
       "      <td>Jarosław Jakimowicz</td>\n",
       "    </tr>\n",
       "  </tbody>\n",
       "</table>\n",
       "</div>"
      ],
      "text/plain": [
       "                                  travel_description section_order  \\\n",
       "0           Podróż z Poznania do Warszawy przez Łódź             1   \n",
       "0           Podróż z Poznania do Warszawy przez Łódź             1   \n",
       "1           Podróż z Poznania do Warszawy przez Łódź             2   \n",
       "2      Podróż z Wrocławia do Rzeszowa z przystankami             1   \n",
       "2      Podróż z Wrocławia do Rzeszowa z przystankami             1   \n",
       "3      Podróż z Wrocławia do Rzeszowa z przystankami             2   \n",
       "3      Podróż z Wrocławia do Rzeszowa z przystankami             2   \n",
       "3      Podróż z Wrocławia do Rzeszowa z przystankami             2   \n",
       "4      Podróż z Wrocławia do Rzeszowa z przystankami             3   \n",
       "5  Podróż z Warszawy do Katowic - stajemy też w Ł...             1   \n",
       "5  Podróż z Warszawy do Katowic - stajemy też w Ł...             1   \n",
       "6  Podróż z Warszawy do Katowic - stajemy też w Ł...             2   \n",
       "\n",
       "        passenger_name  \n",
       "0      Krzysztof Ibisz  \n",
       "0        Edyta Górniak  \n",
       "1      Krzysztof Ibisz  \n",
       "2        Anna Kowalska  \n",
       "2  Jarosław Jakimowicz  \n",
       "3        Anna Kowalska  \n",
       "3  Jarosław Jakimowicz  \n",
       "3        Edyta Górniak  \n",
       "4        Edyta Górniak  \n",
       "5  Jarosław Jakimowicz  \n",
       "5           Adam Nowak  \n",
       "6  Jarosław Jakimowicz  "
      ]
     },
     "execution_count": 29,
     "metadata": {},
     "output_type": "execute_result"
    }
   ],
   "source": [
    "passengers_sections_df"
   ]
  },
  {
   "cell_type": "code",
   "execution_count": 30,
   "id": "89a957c9-9110-4a09-86ce-8aea9297a235",
   "metadata": {},
   "outputs": [],
   "source": [
    "passengers_df = passengers_sections_df[[\"passenger_name\"]].drop_duplicates()"
   ]
  },
  {
   "cell_type": "code",
   "execution_count": 31,
   "id": "6d834608-e515-42cc-a778-e75da2aab540",
   "metadata": {},
   "outputs": [
    {
     "data": {
      "text/html": [
       "<div>\n",
       "<style scoped>\n",
       "    .dataframe tbody tr th:only-of-type {\n",
       "        vertical-align: middle;\n",
       "    }\n",
       "\n",
       "    .dataframe tbody tr th {\n",
       "        vertical-align: top;\n",
       "    }\n",
       "\n",
       "    .dataframe thead th {\n",
       "        text-align: right;\n",
       "    }\n",
       "</style>\n",
       "<table border=\"1\" class=\"dataframe\">\n",
       "  <thead>\n",
       "    <tr style=\"text-align: right;\">\n",
       "      <th></th>\n",
       "      <th>passenger_name</th>\n",
       "    </tr>\n",
       "  </thead>\n",
       "  <tbody>\n",
       "    <tr>\n",
       "      <th>0</th>\n",
       "      <td>Krzysztof Ibisz</td>\n",
       "    </tr>\n",
       "    <tr>\n",
       "      <th>0</th>\n",
       "      <td>Edyta Górniak</td>\n",
       "    </tr>\n",
       "    <tr>\n",
       "      <th>2</th>\n",
       "      <td>Anna Kowalska</td>\n",
       "    </tr>\n",
       "    <tr>\n",
       "      <th>2</th>\n",
       "      <td>Jarosław Jakimowicz</td>\n",
       "    </tr>\n",
       "    <tr>\n",
       "      <th>5</th>\n",
       "      <td>Adam Nowak</td>\n",
       "    </tr>\n",
       "  </tbody>\n",
       "</table>\n",
       "</div>"
      ],
      "text/plain": [
       "        passenger_name\n",
       "0      Krzysztof Ibisz\n",
       "0        Edyta Górniak\n",
       "2        Anna Kowalska\n",
       "2  Jarosław Jakimowicz\n",
       "5           Adam Nowak"
      ]
     },
     "execution_count": 31,
     "metadata": {},
     "output_type": "execute_result"
    }
   ],
   "source": [
    "passengers_df"
   ]
  },
  {
   "cell_type": "markdown",
   "id": "3df3d152-1aea-4c28-9253-cdaeee06390d",
   "metadata": {},
   "source": [
    "# Schemas:"
   ]
  },
  {
   "cell_type": "code",
   "execution_count": 89,
   "id": "20146b14-2103-4684-8cec-8d894ab769d9",
   "metadata": {},
   "outputs": [],
   "source": [
    "travels_schema = \"\"\"\n",
    "travel_description VARCHAR PRIMARY KEY NOT NULL,\n",
    "travel_date DATE,\n",
    "travel_avg_speed_km_h FLOAT,\n",
    "travel_total_distance_km FLOAT\n",
    "\"\"\"\n",
    "\n",
    "cities_schema = \"\"\"\n",
    "city_name VARCHAR PRIMARY KEY NOT NULL,\n",
    "row_timestamp TIMESTAMP NOT NULL\n",
    "\"\"\"\n",
    "\n",
    "sections_schema = \"\"\"\n",
    "travel_description VARCHAR REFERENCES travels(travel_description),\n",
    "section_order INT NOT NULL,\n",
    "city_from VARCHAR REFERENCES cities(city_name),\n",
    "city_to VARCHAR REFERENCES cities(city_name),\n",
    "section_distance_km INT,\n",
    "section_time_min INT,\n",
    "section_avg_speed_km_h FLOAT,\n",
    "PRIMARY KEY(travel_description, section_order)\n",
    "\"\"\"\n",
    "\n",
    "drivers_schema = \"\"\"\n",
    "driver_name VARCHAR PRIMARY KEY NOT NULL,\n",
    "travel_description VARCHAR REFERENCES travels(travel_description)\n",
    "\"\"\"\n",
    "\n",
    "passengers_schema = \"\"\"\n",
    "passenger_name VARCHAR PRIMARY KEY NOT NULL,\n",
    "row_timestamp TIMESTAMP NOT NULL\n",
    "\"\"\"\n",
    "\n",
    "passengers_sections_schema = \"\"\"\n",
    "travel_description VARCHAR NOT NULL,\n",
    "section_order INT NOT NULL,\n",
    "FOREIGN KEY (travel_description, section_order) REFERENCES sections(travel_description, section_order),\n",
    "passenger_name VARCHAR REFERENCES passengers(passenger_name),\n",
    "PRIMARY KEY (travel_description, section_order, passenger_name)\n",
    "\"\"\""
   ]
  },
  {
   "cell_type": "markdown",
   "id": "ad5bb1e0-69e8-4864-bc96-03d68eba6502",
   "metadata": {},
   "source": [
    "# SQL methods"
   ]
  },
  {
   "cell_type": "code",
   "execution_count": 33,
   "id": "0cf6d123-dce1-4681-a500-c019c36d5615",
   "metadata": {},
   "outputs": [],
   "source": [
    "import psycopg2\n",
    "import os\n",
    "from datetime import datetime"
   ]
  },
  {
   "cell_type": "code",
   "execution_count": 34,
   "id": "646486a0-ddf7-4734-9d21-2c35ad58c3fd",
   "metadata": {},
   "outputs": [],
   "source": [
    "def run_syntax(db_connection: psycopg2, syntax: str) -> None:\n",
    "    \"\"\"\n",
    "    Run syntax.\n",
    "    :param db_connection: Database connection object.\n",
    "    :param syntax: Syntax for execution.\n",
    "    \"\"\"\n",
    "    cur = db_connection.cursor()\n",
    "    cur.execute(syntax)\n",
    "    cur.close()"
   ]
  },
  {
   "cell_type": "code",
   "execution_count": 35,
   "id": "3e207f01-3123-4a31-912d-54b261cbe604",
   "metadata": {},
   "outputs": [],
   "source": [
    "def create_table(schema: str, table: str) -> None:\n",
    "    \"\"\"\n",
    "    Create a table in the DB based on a schema.\n",
    "    :param schema: The table schema.\n",
    "    :param schema: The schema.\n",
    "    :param table: The name of the table.\n",
    "    \"\"\"\n",
    "    db_connection = psycopg2.connect(\n",
    "        host=\"ec2-52-31-70-136.eu-west-1.compute.amazonaws.com\",\n",
    "        user=\"fodrsjfllnljnm\",\n",
    "        password=\"60fb3f606b8de4e7d39a8efb6d48931a7123418d5fcfb0e27d74957ded438c25\",\n",
    "        dbname=\"dbphbgo6dthk7q\",\n",
    "    )\n",
    "\n",
    "    # Create table if it does not yet exist\n",
    "    run_syntax(db_connection=db_connection, syntax=f\"CREATE TABLE IF NOT EXISTS {table}({schema})\")\n",
    "\n",
    "    db_connection.commit()\n",
    "    db_connection.close()"
   ]
  },
  {
   "cell_type": "code",
   "execution_count": 36,
   "id": "8e6383f4-4953-40e7-b96b-83c6a64179db",
   "metadata": {},
   "outputs": [],
   "source": [
    "def populate_table(table_name: str, df: pd.DataFrame) -> None:\n",
    "    \"\"\"\n",
    "    Populate a table in the database from a pandas dataframe.\n",
    "    :param table_name: The name of the table in the DB that we will add the values in df to.\n",
    "    :param df: The dataframe that we use for puplating the table.\n",
    "    \"\"\"\n",
    "    db_connection = psycopg2.connect(\n",
    "        host=\"ec2-52-31-70-136.eu-west-1.compute.amazonaws.com\",\n",
    "        user=\"fodrsjfllnljnm\",\n",
    "        password=\"60fb3f606b8de4e7d39a8efb6d48931a7123418d5fcfb0e27d74957ded438c25\",\n",
    "        dbname=\"dbphbgo6dthk7q\",\n",
    "    )\n",
    "\n",
    "    # Check that all columns are present in the CSV file\n",
    "    cur = db_connection.cursor()\n",
    "    cur.execute(f\"SELECT * FROM {table_name} LIMIT 0\")\n",
    "    cur.close()\n",
    "\n",
    "    col_names = [i[0] for i in cur.description]\n",
    "    df[\"row_timestamp\"] = [datetime.now().strftime(\"%m-%d-%Y %H:%M:%S\")] * len(df.index)\n",
    "\n",
    "    missing_columns = set(col_names).difference(df.columns)\n",
    "    assert not missing_columns, f\"The following columns are missing in your CSV file: {','.join(missing_columns)}\"\n",
    "\n",
    "    # Re-order CSV\n",
    "    df = df[col_names]\n",
    "\n",
    "    # Inject data\n",
    "    for index, row in df.iterrows():\n",
    "        run_syntax(db_connection=db_connection, syntax=f\"INSERT INTO {table_name} VALUES{tuple(row.values)}\")\n",
    "    db_connection.commit()\n",
    "    db_connection.close()"
   ]
  },
  {
   "cell_type": "code",
   "execution_count": 37,
   "id": "0c29f49d-44de-44b6-b51b-ea7fd5939eff",
   "metadata": {},
   "outputs": [],
   "source": [
    "def drop_table(table_name: str) -> None:\n",
    "    \"\"\"\n",
    "    Populate a table in the database from a pandas dataframe.\n",
    "    :param table_name: The name of the table in the DB that we will add the values in df to.\n",
    "    :param df: The dataframe that we use for puplating the table.\n",
    "    \"\"\"\n",
    "    db_connection = psycopg2.connect(\n",
    "        host=\"ec2-52-31-70-136.eu-west-1.compute.amazonaws.com\",\n",
    "        user=\"fodrsjfllnljnm\",\n",
    "        password=\"60fb3f606b8de4e7d39a8efb6d48931a7123418d5fcfb0e27d74957ded438c25\",\n",
    "        dbname=\"dbphbgo6dthk7q\",\n",
    "    )\n",
    "    \n",
    "    cur = db_connection.cursor()\n",
    "    cur.execute(f\"DROP TABLE {table_name}\")\n",
    "    cur.close()\n",
    "    \n",
    "    db_connection.commit()\n",
    "    db_connection.close()"
   ]
  },
  {
   "cell_type": "markdown",
   "id": "d5163b6f-b81c-46f2-9fdb-3a4b8be48504",
   "metadata": {},
   "source": [
    "# Creating & populating the first table"
   ]
  },
  {
   "cell_type": "code",
   "execution_count": 32,
   "id": "4aaaf48a-180e-4099-8bcf-a4fa7a72b21d",
   "metadata": {},
   "outputs": [],
   "source": [
    "create_table(table=\"Travels\", schema=travels_schema)"
   ]
  },
  {
   "cell_type": "code",
   "execution_count": 33,
   "id": "3820f600-a5f9-47a9-8ce3-d8e3225e4a84",
   "metadata": {},
   "outputs": [],
   "source": [
    "populate_table(table_name=\"Travels\", df=travels_df)"
   ]
  },
  {
   "cell_type": "code",
   "execution_count": 31,
   "id": "b6dc938a-61b3-4bfa-9f17-a8415fbd8b77",
   "metadata": {},
   "outputs": [],
   "source": [
    "drop_table(table_name = \"Travels\")"
   ]
  },
  {
   "cell_type": "markdown",
   "id": "21eff376-9ac0-47a9-b39a-924b4ecf8c88",
   "metadata": {},
   "source": [
    "# Creating table Cities"
   ]
  },
  {
   "cell_type": "code",
   "execution_count": 50,
   "id": "ed654896-77f9-463f-99fc-45b2ff672d39",
   "metadata": {},
   "outputs": [],
   "source": [
    "create_table(table=\"Cities\", schema=cities_schema)"
   ]
  },
  {
   "cell_type": "code",
   "execution_count": 51,
   "id": "063a7f87-dd0c-4bb7-bb89-6ee80cc2b88d",
   "metadata": {},
   "outputs": [],
   "source": [
    "populate_table(table_name=\"Cities\", df=cities_df)"
   ]
  },
  {
   "cell_type": "code",
   "execution_count": 49,
   "id": "97b1f728-0dee-48b7-88be-aa0069729efe",
   "metadata": {},
   "outputs": [],
   "source": [
    "drop_table(table_name = \"Cities\")"
   ]
  },
  {
   "cell_type": "code",
   "execution_count": 52,
   "id": "968214a1-f840-416b-ab29-0f2d9218d3ac",
   "metadata": {},
   "outputs": [
    {
     "data": {
      "text/html": [
       "<div>\n",
       "<style scoped>\n",
       "    .dataframe tbody tr th:only-of-type {\n",
       "        vertical-align: middle;\n",
       "    }\n",
       "\n",
       "    .dataframe tbody tr th {\n",
       "        vertical-align: top;\n",
       "    }\n",
       "\n",
       "    .dataframe thead th {\n",
       "        text-align: right;\n",
       "    }\n",
       "</style>\n",
       "<table border=\"1\" class=\"dataframe\">\n",
       "  <thead>\n",
       "    <tr style=\"text-align: right;\">\n",
       "      <th></th>\n",
       "      <th>city_name</th>\n",
       "      <th>row_timestamp</th>\n",
       "    </tr>\n",
       "  </thead>\n",
       "  <tbody>\n",
       "    <tr>\n",
       "      <th>0</th>\n",
       "      <td>Poznań</td>\n",
       "      <td>10-31-2022 18:14:14</td>\n",
       "    </tr>\n",
       "    <tr>\n",
       "      <th>1</th>\n",
       "      <td>Łódź</td>\n",
       "      <td>10-31-2022 18:14:14</td>\n",
       "    </tr>\n",
       "    <tr>\n",
       "      <th>2</th>\n",
       "      <td>Wrocław</td>\n",
       "      <td>10-31-2022 18:14:14</td>\n",
       "    </tr>\n",
       "    <tr>\n",
       "      <th>3</th>\n",
       "      <td>Katowice</td>\n",
       "      <td>10-31-2022 18:14:14</td>\n",
       "    </tr>\n",
       "    <tr>\n",
       "      <th>4</th>\n",
       "      <td>Kraków</td>\n",
       "      <td>10-31-2022 18:14:14</td>\n",
       "    </tr>\n",
       "    <tr>\n",
       "      <th>5</th>\n",
       "      <td>Warszawa</td>\n",
       "      <td>10-31-2022 18:14:14</td>\n",
       "    </tr>\n",
       "    <tr>\n",
       "      <th>6</th>\n",
       "      <td>Rzeszów</td>\n",
       "      <td>10-31-2022 18:14:14</td>\n",
       "    </tr>\n",
       "  </tbody>\n",
       "</table>\n",
       "</div>"
      ],
      "text/plain": [
       "  city_name        row_timestamp\n",
       "0    Poznań  10-31-2022 18:14:14\n",
       "1      Łódź  10-31-2022 18:14:14\n",
       "2   Wrocław  10-31-2022 18:14:14\n",
       "3  Katowice  10-31-2022 18:14:14\n",
       "4    Kraków  10-31-2022 18:14:14\n",
       "5  Warszawa  10-31-2022 18:14:14\n",
       "6   Rzeszów  10-31-2022 18:14:14"
      ]
     },
     "execution_count": 52,
     "metadata": {},
     "output_type": "execute_result"
    }
   ],
   "source": [
    "cities_df"
   ]
  },
  {
   "cell_type": "markdown",
   "id": "54e7ca90-9e59-4743-8915-d13603fb0b20",
   "metadata": {},
   "source": [
    "# Creating table Sections"
   ]
  },
  {
   "cell_type": "code",
   "execution_count": 91,
   "id": "f7b35165-02fd-43f4-930a-c24c655ce26d",
   "metadata": {},
   "outputs": [],
   "source": [
    "create_table(table=\"Sections\", schema=sections_schema)"
   ]
  },
  {
   "cell_type": "code",
   "execution_count": 92,
   "id": "41a889d1-5e76-4544-8154-48795e0ec51d",
   "metadata": {},
   "outputs": [],
   "source": [
    "populate_table(table_name=\"Sections\", df=sections_df)"
   ]
  },
  {
   "cell_type": "code",
   "execution_count": 90,
   "id": "081cca1b-8eae-4684-85f1-6fa6d8a18e3b",
   "metadata": {},
   "outputs": [],
   "source": [
    "drop_table(table_name = \"Sections\")"
   ]
  },
  {
   "cell_type": "markdown",
   "id": "96f6c87b-21a5-47db-9236-9e0c303aef74",
   "metadata": {},
   "source": [
    "# Creating Drivers table"
   ]
  },
  {
   "cell_type": "code",
   "execution_count": 34,
   "id": "dabcd71e-4d4c-4572-bc48-d17a1a751a12",
   "metadata": {},
   "outputs": [],
   "source": [
    "create_table(table=\"Drivers\", schema=drivers_schema)"
   ]
  },
  {
   "cell_type": "code",
   "execution_count": 35,
   "id": "d63bc666-9d56-4eda-a060-ecb3cf9d6deb",
   "metadata": {},
   "outputs": [],
   "source": [
    "populate_table(table_name=\"Drivers\", df=drivers_df)"
   ]
  },
  {
   "cell_type": "code",
   "execution_count": 33,
   "id": "63f89478-89d7-4be0-88a1-2852edf63254",
   "metadata": {},
   "outputs": [],
   "source": [
    "drop_table(table_name = \"Drivers\")"
   ]
  },
  {
   "cell_type": "markdown",
   "id": "509b2e4d-10e1-490a-88f3-78fbe17ae641",
   "metadata": {},
   "source": [
    "# Creating Passengers table"
   ]
  },
  {
   "cell_type": "code",
   "execution_count": 97,
   "id": "358d587c-8f3b-4448-886d-4e6c9aacb734",
   "metadata": {},
   "outputs": [],
   "source": [
    "create_table(table=\"Passengers\", schema=passengers_schema)"
   ]
  },
  {
   "cell_type": "code",
   "execution_count": 58,
   "id": "f2b7fea7-5757-4096-a76e-893614a42b74",
   "metadata": {},
   "outputs": [],
   "source": [
    "populate_table(table_name=\"Passengers\", df=passengers_df)"
   ]
  },
  {
   "cell_type": "code",
   "execution_count": 56,
   "id": "9db30490-43b9-44f9-b6f6-70c577471e2a",
   "metadata": {},
   "outputs": [],
   "source": [
    "drop_table(table_name = \"Passengers\")"
   ]
  },
  {
   "cell_type": "markdown",
   "id": "06a53db9-5052-4a59-b696-728296e5c123",
   "metadata": {},
   "source": [
    "# Creating Passengers-Trips table"
   ]
  },
  {
   "cell_type": "code",
   "execution_count": 93,
   "id": "4a7419ca-9998-47b7-9569-0720521bc83d",
   "metadata": {},
   "outputs": [],
   "source": [
    "create_table(table=\"PassengersSections\", schema=passengers_sections_schema)"
   ]
  },
  {
   "cell_type": "code",
   "execution_count": 94,
   "id": "7d78a31b-9971-40b9-b94f-64b77211afee",
   "metadata": {},
   "outputs": [],
   "source": [
    "populate_table(table_name=\"PassengersSections\", df=passengers_sections_df)"
   ]
  },
  {
   "cell_type": "code",
   "execution_count": 92,
   "id": "2e79ebbd-4cc3-423e-a84c-8bff49697503",
   "metadata": {},
   "outputs": [],
   "source": [
    "drop_table(table_name = \"PassengersSections\")"
   ]
  },
  {
   "cell_type": "code",
   "execution_count": null,
   "id": "71cb1279-20b0-48fb-9e3e-996af47d83fd",
   "metadata": {},
   "outputs": [],
   "source": []
  }
 ],
 "metadata": {
  "kernelspec": {
   "display_name": "Python 3 (ipykernel)",
   "language": "python",
   "name": "python3"
  },
  "language_info": {
   "codemirror_mode": {
    "name": "ipython",
    "version": 3
   },
   "file_extension": ".py",
   "mimetype": "text/x-python",
   "name": "python",
   "nbconvert_exporter": "python",
   "pygments_lexer": "ipython3",
   "version": "3.9.13"
  }
 },
 "nbformat": 4,
 "nbformat_minor": 5
}
