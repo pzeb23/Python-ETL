{
 "cells": [
  {
   "cell_type": "code",
   "execution_count": 1,
   "id": "f453ead9-137a-4930-8092-fdda54f8860f",
   "metadata": {},
   "outputs": [],
   "source": [
    "# Operating system: MacOS 13.0\n",
    "import pandas as pd\n",
    "import numpy as np"
   ]
  },
  {
   "cell_type": "code",
   "execution_count": 2,
   "id": "a3cf7c87-3305-4e1e-b6a7-6a14209121ca",
   "metadata": {
    "tags": []
   },
   "outputs": [
    {
     "name": "stdout",
     "output_type": "stream",
     "text": [
      "[['travel_description', 'travel_date', 'section_order', 'city_from', 'city_to', 'section_distance_km', 'section_time_min', 'section_avg_speed_km_h', 'travel_avg_speed_km_h', 'travel_total_distance_km', 'driver_name', 'other_passengers'], ['Podróż z Poznania do Warszawy przez Łódź', '01/12/2020', '1', 'Poznań', 'Łódź', '218', '146', '89.59', '83.1', '349', 'Piotr Żyła', 'Krzysztof Ibisz,Edyta Górniak'], ['Podróż z Poznania do Warszawy przez Łódź', '01/12/2020', '2', 'Łódź', 'Warszawa', '131', '106', '74.15', '83.1', '349', 'Piotr Żyła', 'Krzysztof Ibisz'], ['Podróż z Wrocławia do Rzeszowa z przystankami', '12/12/2020', '1', 'Wrocław', 'Katowice', '195', '130', '90', '87.92', '444', 'Adam Nowak', 'Anna Kowalska,Jarosław Jakimowicz'], ['Podróż z Wrocławia do Rzeszowa z przystankami', '12/12/2020', '2', 'Katowice', 'Kraków', '79', '64', '74.06', '87.92', '444', 'Adam Nowak', 'Anna Kowalska,Jarosław Jakimowicz,Edyta Górniak'], ['Podróż z Wrocławia do Rzeszowa z przystankami', '12/12/2020', '3', 'Kraków', 'Rzeszów', '170', '109', '93.58', '87.92', '444', 'Adam Nowak', 'Edyta Górniak'], ['Podróż z Warszawy do Katowic - stajemy też w Łodzi', '08/12/2020', '1', 'Warszawa', 'Łódź', '131', '92', '85.43', '76.7', '418', 'Edyta Górniak', 'Jarosław Jakimowicz,Adam Nowak'], ['Podróż z Warszawy do Katowic - stajemy też w Łodzi', '08/12/2020', '2', 'Łódź', 'Katowice', '287', '235', '73.28', '76.7', '418', 'Edyta Górniak', 'Jarosław Jakimowicz']]\n"
     ]
    }
   ],
   "source": [
    "import csv\n",
    "\n",
    "with open('travel_data.csv', newline='') as csvfile:\n",
    "    data = list(csv.reader(csvfile, delimiter='|'))\n",
    "\n",
    "print(data)"
   ]
  },
  {
   "cell_type": "code",
   "execution_count": 3,
   "id": "00d93ab5-d559-4a9c-b132-8e8472350b0f",
   "metadata": {},
   "outputs": [],
   "source": [
    "data_columns = data[0]"
   ]
  },
  {
   "cell_type": "code",
   "execution_count": 4,
   "id": "65089432-2e07-48a2-b265-6974b9525648",
   "metadata": {},
   "outputs": [
    {
     "data": {
      "text/plain": [
       "['travel_description',\n",
       " 'travel_date',\n",
       " 'section_order',\n",
       " 'city_from',\n",
       " 'city_to',\n",
       " 'section_distance_km',\n",
       " 'section_time_min',\n",
       " 'section_avg_speed_km_h',\n",
       " 'travel_avg_speed_km_h',\n",
       " 'travel_total_distance_km',\n",
       " 'driver_name',\n",
       " 'other_passengers']"
      ]
     },
     "execution_count": 4,
     "metadata": {},
     "output_type": "execute_result"
    }
   ],
   "source": [
    "data_columns"
   ]
  },
  {
   "cell_type": "code",
   "execution_count": 5,
   "id": "63d1abb6-df15-4ad5-b138-799da753f8cd",
   "metadata": {},
   "outputs": [],
   "source": [
    "data_content = data[1:]"
   ]
  },
  {
   "cell_type": "code",
   "execution_count": 6,
   "id": "31794044-7b1f-4071-8e28-79e359a17d24",
   "metadata": {},
   "outputs": [
    {
     "data": {
      "text/html": [
       "<div>\n",
       "<style scoped>\n",
       "    .dataframe tbody tr th:only-of-type {\n",
       "        vertical-align: middle;\n",
       "    }\n",
       "\n",
       "    .dataframe tbody tr th {\n",
       "        vertical-align: top;\n",
       "    }\n",
       "\n",
       "    .dataframe thead th {\n",
       "        text-align: right;\n",
       "    }\n",
       "</style>\n",
       "<table border=\"1\" class=\"dataframe\">\n",
       "  <thead>\n",
       "    <tr style=\"text-align: right;\">\n",
       "      <th></th>\n",
       "      <th>travel_description</th>\n",
       "      <th>travel_date</th>\n",
       "      <th>section_order</th>\n",
       "      <th>city_from</th>\n",
       "      <th>city_to</th>\n",
       "      <th>section_distance_km</th>\n",
       "      <th>section_time_min</th>\n",
       "      <th>section_avg_speed_km_h</th>\n",
       "      <th>travel_avg_speed_km_h</th>\n",
       "      <th>travel_total_distance_km</th>\n",
       "      <th>driver_name</th>\n",
       "      <th>other_passengers</th>\n",
       "    </tr>\n",
       "  </thead>\n",
       "  <tbody>\n",
       "    <tr>\n",
       "      <th>0</th>\n",
       "      <td>Podróż z Poznania do Warszawy przez Łódź</td>\n",
       "      <td>01/12/2020</td>\n",
       "      <td>1</td>\n",
       "      <td>Poznań</td>\n",
       "      <td>Łódź</td>\n",
       "      <td>218</td>\n",
       "      <td>146</td>\n",
       "      <td>89.59</td>\n",
       "      <td>83.1</td>\n",
       "      <td>349</td>\n",
       "      <td>Piotr Żyła</td>\n",
       "      <td>Krzysztof Ibisz,Edyta Górniak</td>\n",
       "    </tr>\n",
       "    <tr>\n",
       "      <th>1</th>\n",
       "      <td>Podróż z Poznania do Warszawy przez Łódź</td>\n",
       "      <td>01/12/2020</td>\n",
       "      <td>2</td>\n",
       "      <td>Łódź</td>\n",
       "      <td>Warszawa</td>\n",
       "      <td>131</td>\n",
       "      <td>106</td>\n",
       "      <td>74.15</td>\n",
       "      <td>83.1</td>\n",
       "      <td>349</td>\n",
       "      <td>Piotr Żyła</td>\n",
       "      <td>Krzysztof Ibisz</td>\n",
       "    </tr>\n",
       "    <tr>\n",
       "      <th>2</th>\n",
       "      <td>Podróż z Wrocławia do Rzeszowa z przystankami</td>\n",
       "      <td>12/12/2020</td>\n",
       "      <td>1</td>\n",
       "      <td>Wrocław</td>\n",
       "      <td>Katowice</td>\n",
       "      <td>195</td>\n",
       "      <td>130</td>\n",
       "      <td>90</td>\n",
       "      <td>87.92</td>\n",
       "      <td>444</td>\n",
       "      <td>Adam Nowak</td>\n",
       "      <td>Anna Kowalska,Jarosław Jakimowicz</td>\n",
       "    </tr>\n",
       "    <tr>\n",
       "      <th>3</th>\n",
       "      <td>Podróż z Wrocławia do Rzeszowa z przystankami</td>\n",
       "      <td>12/12/2020</td>\n",
       "      <td>2</td>\n",
       "      <td>Katowice</td>\n",
       "      <td>Kraków</td>\n",
       "      <td>79</td>\n",
       "      <td>64</td>\n",
       "      <td>74.06</td>\n",
       "      <td>87.92</td>\n",
       "      <td>444</td>\n",
       "      <td>Adam Nowak</td>\n",
       "      <td>Anna Kowalska,Jarosław Jakimowicz,Edyta Górniak</td>\n",
       "    </tr>\n",
       "    <tr>\n",
       "      <th>4</th>\n",
       "      <td>Podróż z Wrocławia do Rzeszowa z przystankami</td>\n",
       "      <td>12/12/2020</td>\n",
       "      <td>3</td>\n",
       "      <td>Kraków</td>\n",
       "      <td>Rzeszów</td>\n",
       "      <td>170</td>\n",
       "      <td>109</td>\n",
       "      <td>93.58</td>\n",
       "      <td>87.92</td>\n",
       "      <td>444</td>\n",
       "      <td>Adam Nowak</td>\n",
       "      <td>Edyta Górniak</td>\n",
       "    </tr>\n",
       "    <tr>\n",
       "      <th>5</th>\n",
       "      <td>Podróż z Warszawy do Katowic - stajemy też w Ł...</td>\n",
       "      <td>08/12/2020</td>\n",
       "      <td>1</td>\n",
       "      <td>Warszawa</td>\n",
       "      <td>Łódź</td>\n",
       "      <td>131</td>\n",
       "      <td>92</td>\n",
       "      <td>85.43</td>\n",
       "      <td>76.7</td>\n",
       "      <td>418</td>\n",
       "      <td>Edyta Górniak</td>\n",
       "      <td>Jarosław Jakimowicz,Adam Nowak</td>\n",
       "    </tr>\n",
       "    <tr>\n",
       "      <th>6</th>\n",
       "      <td>Podróż z Warszawy do Katowic - stajemy też w Ł...</td>\n",
       "      <td>08/12/2020</td>\n",
       "      <td>2</td>\n",
       "      <td>Łódź</td>\n",
       "      <td>Katowice</td>\n",
       "      <td>287</td>\n",
       "      <td>235</td>\n",
       "      <td>73.28</td>\n",
       "      <td>76.7</td>\n",
       "      <td>418</td>\n",
       "      <td>Edyta Górniak</td>\n",
       "      <td>Jarosław Jakimowicz</td>\n",
       "    </tr>\n",
       "  </tbody>\n",
       "</table>\n",
       "</div>"
      ],
      "text/plain": [
       "                                  travel_description travel_date  \\\n",
       "0           Podróż z Poznania do Warszawy przez Łódź  01/12/2020   \n",
       "1           Podróż z Poznania do Warszawy przez Łódź  01/12/2020   \n",
       "2      Podróż z Wrocławia do Rzeszowa z przystankami  12/12/2020   \n",
       "3      Podróż z Wrocławia do Rzeszowa z przystankami  12/12/2020   \n",
       "4      Podróż z Wrocławia do Rzeszowa z przystankami  12/12/2020   \n",
       "5  Podróż z Warszawy do Katowic - stajemy też w Ł...  08/12/2020   \n",
       "6  Podróż z Warszawy do Katowic - stajemy też w Ł...  08/12/2020   \n",
       "\n",
       "  section_order city_from   city_to section_distance_km section_time_min  \\\n",
       "0             1    Poznań      Łódź                 218              146   \n",
       "1             2      Łódź  Warszawa                 131              106   \n",
       "2             1   Wrocław  Katowice                 195              130   \n",
       "3             2  Katowice    Kraków                  79               64   \n",
       "4             3    Kraków   Rzeszów                 170              109   \n",
       "5             1  Warszawa      Łódź                 131               92   \n",
       "6             2      Łódź  Katowice                 287              235   \n",
       "\n",
       "  section_avg_speed_km_h travel_avg_speed_km_h travel_total_distance_km  \\\n",
       "0                  89.59                  83.1                      349   \n",
       "1                  74.15                  83.1                      349   \n",
       "2                     90                 87.92                      444   \n",
       "3                  74.06                 87.92                      444   \n",
       "4                  93.58                 87.92                      444   \n",
       "5                  85.43                  76.7                      418   \n",
       "6                  73.28                  76.7                      418   \n",
       "\n",
       "     driver_name                                 other_passengers  \n",
       "0     Piotr Żyła                    Krzysztof Ibisz,Edyta Górniak  \n",
       "1     Piotr Żyła                                  Krzysztof Ibisz  \n",
       "2     Adam Nowak                Anna Kowalska,Jarosław Jakimowicz  \n",
       "3     Adam Nowak  Anna Kowalska,Jarosław Jakimowicz,Edyta Górniak  \n",
       "4     Adam Nowak                                    Edyta Górniak  \n",
       "5  Edyta Górniak                   Jarosław Jakimowicz,Adam Nowak  \n",
       "6  Edyta Górniak                              Jarosław Jakimowicz  "
      ]
     },
     "execution_count": 6,
     "metadata": {},
     "output_type": "execute_result"
    }
   ],
   "source": [
    "df = pd.DataFrame(data_content, columns = data_columns)\n",
    "\n",
    "df"
   ]
  },
  {
   "cell_type": "code",
   "execution_count": 7,
   "id": "129a4db3-2d40-4564-9c96-e019e6b07286",
   "metadata": {},
   "outputs": [],
   "source": [
    "# Entities: Travels, Cities, Drivers, Passengers, Sections(?)"
   ]
  },
  {
   "cell_type": "markdown",
   "id": "01c0f2ee-9dc6-4836-8d9c-58d19fa36f7b",
   "metadata": {},
   "source": [
    "# Data slicing"
   ]
  },
  {
   "cell_type": "code",
   "execution_count": 25,
   "id": "af7cd108-c627-4fe4-a5aa-3cf6286e4cff",
   "metadata": {},
   "outputs": [],
   "source": [
    "df_travels = df.loc[:, [\"travel_description\", \"travel_date\", \"travel_avg_speed_km_h\", \"travel_total_distance_km\"]]\n",
    "# \"travel_date\"\n",
    "df_travels[\"travel_id\"] = df.index + 1"
   ]
  },
  {
   "cell_type": "code",
   "execution_count": 26,
   "id": "a30762c5-92ea-414b-ac27-861d0a156e51",
   "metadata": {},
   "outputs": [
    {
     "data": {
      "text/html": [
       "<div>\n",
       "<style scoped>\n",
       "    .dataframe tbody tr th:only-of-type {\n",
       "        vertical-align: middle;\n",
       "    }\n",
       "\n",
       "    .dataframe tbody tr th {\n",
       "        vertical-align: top;\n",
       "    }\n",
       "\n",
       "    .dataframe thead th {\n",
       "        text-align: right;\n",
       "    }\n",
       "</style>\n",
       "<table border=\"1\" class=\"dataframe\">\n",
       "  <thead>\n",
       "    <tr style=\"text-align: right;\">\n",
       "      <th></th>\n",
       "      <th>travel_id</th>\n",
       "      <th>travel_description</th>\n",
       "      <th>travel_date</th>\n",
       "      <th>travel_avg_speed_km_h</th>\n",
       "      <th>travel_total_distance_km</th>\n",
       "    </tr>\n",
       "  </thead>\n",
       "  <tbody>\n",
       "    <tr>\n",
       "      <th>0</th>\n",
       "      <td>1</td>\n",
       "      <td>Podróż z Poznania do Warszawy przez Łódź</td>\n",
       "      <td>01/12/2020</td>\n",
       "      <td>83.1</td>\n",
       "      <td>349</td>\n",
       "    </tr>\n",
       "    <tr>\n",
       "      <th>1</th>\n",
       "      <td>2</td>\n",
       "      <td>Podróż z Poznania do Warszawy przez Łódź</td>\n",
       "      <td>01/12/2020</td>\n",
       "      <td>83.1</td>\n",
       "      <td>349</td>\n",
       "    </tr>\n",
       "    <tr>\n",
       "      <th>2</th>\n",
       "      <td>3</td>\n",
       "      <td>Podróż z Wrocławia do Rzeszowa z przystankami</td>\n",
       "      <td>12/12/2020</td>\n",
       "      <td>87.92</td>\n",
       "      <td>444</td>\n",
       "    </tr>\n",
       "    <tr>\n",
       "      <th>3</th>\n",
       "      <td>4</td>\n",
       "      <td>Podróż z Wrocławia do Rzeszowa z przystankami</td>\n",
       "      <td>12/12/2020</td>\n",
       "      <td>87.92</td>\n",
       "      <td>444</td>\n",
       "    </tr>\n",
       "    <tr>\n",
       "      <th>4</th>\n",
       "      <td>5</td>\n",
       "      <td>Podróż z Wrocławia do Rzeszowa z przystankami</td>\n",
       "      <td>12/12/2020</td>\n",
       "      <td>87.92</td>\n",
       "      <td>444</td>\n",
       "    </tr>\n",
       "    <tr>\n",
       "      <th>5</th>\n",
       "      <td>6</td>\n",
       "      <td>Podróż z Warszawy do Katowic - stajemy też w Ł...</td>\n",
       "      <td>08/12/2020</td>\n",
       "      <td>76.7</td>\n",
       "      <td>418</td>\n",
       "    </tr>\n",
       "    <tr>\n",
       "      <th>6</th>\n",
       "      <td>7</td>\n",
       "      <td>Podróż z Warszawy do Katowic - stajemy też w Ł...</td>\n",
       "      <td>08/12/2020</td>\n",
       "      <td>76.7</td>\n",
       "      <td>418</td>\n",
       "    </tr>\n",
       "  </tbody>\n",
       "</table>\n",
       "</div>"
      ],
      "text/plain": [
       "   travel_id                                 travel_description travel_date  \\\n",
       "0          1           Podróż z Poznania do Warszawy przez Łódź  01/12/2020   \n",
       "1          2           Podróż z Poznania do Warszawy przez Łódź  01/12/2020   \n",
       "2          3      Podróż z Wrocławia do Rzeszowa z przystankami  12/12/2020   \n",
       "3          4      Podróż z Wrocławia do Rzeszowa z przystankami  12/12/2020   \n",
       "4          5      Podróż z Wrocławia do Rzeszowa z przystankami  12/12/2020   \n",
       "5          6  Podróż z Warszawy do Katowic - stajemy też w Ł...  08/12/2020   \n",
       "6          7  Podróż z Warszawy do Katowic - stajemy też w Ł...  08/12/2020   \n",
       "\n",
       "  travel_avg_speed_km_h travel_total_distance_km  \n",
       "0                  83.1                      349  \n",
       "1                  83.1                      349  \n",
       "2                 87.92                      444  \n",
       "3                 87.92                      444  \n",
       "4                 87.92                      444  \n",
       "5                  76.7                      418  \n",
       "6                  76.7                      418  "
      ]
     },
     "execution_count": 26,
     "metadata": {},
     "output_type": "execute_result"
    }
   ],
   "source": [
    "cols = list(df_travels.columns)\n",
    "cols = [cols[-1]] + cols[:-1]\n",
    "df_travels = df_travels[cols]\n",
    "df_travels"
   ]
  },
  {
   "cell_type": "markdown",
   "id": "4170d517-0535-4b05-912b-1c66a0dbb7b8",
   "metadata": {},
   "source": [
    "# Cities: select distinct from 2 columns"
   ]
  },
  {
   "cell_type": "code",
   "execution_count": 37,
   "id": "97bda76d-44a4-44d1-8e72-a39497376cc6",
   "metadata": {},
   "outputs": [],
   "source": [
    "a_df=df.drop_duplicates(['city_from'])[['city_from']]"
   ]
  },
  {
   "cell_type": "code",
   "execution_count": 38,
   "id": "fb743596-d8ff-4e41-b56b-42bb4a806e79",
   "metadata": {},
   "outputs": [
    {
     "data": {
      "text/html": [
       "<div>\n",
       "<style scoped>\n",
       "    .dataframe tbody tr th:only-of-type {\n",
       "        vertical-align: middle;\n",
       "    }\n",
       "\n",
       "    .dataframe tbody tr th {\n",
       "        vertical-align: top;\n",
       "    }\n",
       "\n",
       "    .dataframe thead th {\n",
       "        text-align: right;\n",
       "    }\n",
       "</style>\n",
       "<table border=\"1\" class=\"dataframe\">\n",
       "  <thead>\n",
       "    <tr style=\"text-align: right;\">\n",
       "      <th></th>\n",
       "      <th>city_from</th>\n",
       "    </tr>\n",
       "  </thead>\n",
       "  <tbody>\n",
       "    <tr>\n",
       "      <th>0</th>\n",
       "      <td>Poznań</td>\n",
       "    </tr>\n",
       "    <tr>\n",
       "      <th>1</th>\n",
       "      <td>Łódź</td>\n",
       "    </tr>\n",
       "    <tr>\n",
       "      <th>2</th>\n",
       "      <td>Wrocław</td>\n",
       "    </tr>\n",
       "    <tr>\n",
       "      <th>3</th>\n",
       "      <td>Katowice</td>\n",
       "    </tr>\n",
       "    <tr>\n",
       "      <th>4</th>\n",
       "      <td>Kraków</td>\n",
       "    </tr>\n",
       "    <tr>\n",
       "      <th>5</th>\n",
       "      <td>Warszawa</td>\n",
       "    </tr>\n",
       "  </tbody>\n",
       "</table>\n",
       "</div>"
      ],
      "text/plain": [
       "  city_from\n",
       "0    Poznań\n",
       "1      Łódź\n",
       "2   Wrocław\n",
       "3  Katowice\n",
       "4    Kraków\n",
       "5  Warszawa"
      ]
     },
     "execution_count": 38,
     "metadata": {},
     "output_type": "execute_result"
    }
   ],
   "source": [
    "a_df"
   ]
  },
  {
   "cell_type": "code",
   "execution_count": null,
   "id": "7312ca15-549f-4bef-983c-b033af1bd02a",
   "metadata": {},
   "outputs": [],
   "source": []
  },
  {
   "cell_type": "markdown",
   "id": "3df3d152-1aea-4c28-9253-cdaeee06390d",
   "metadata": {},
   "source": [
    "# Schemas:"
   ]
  },
  {
   "cell_type": "code",
   "execution_count": 31,
   "id": "20146b14-2103-4684-8cec-8d894ab769d9",
   "metadata": {},
   "outputs": [],
   "source": [
    "travels_schema = \"\"\"\n",
    "travel_id INT PRIMARY KEY NOT NULL,\n",
    "travel_description VARCHAR,\n",
    "travel_date DATE,\n",
    "travel_avg_speed_km_h FLOAT,\n",
    "travel_total_distance_km FLOAT\n",
    "\"\"\"\n",
    "\n"
   ]
  },
  {
   "cell_type": "markdown",
   "id": "ad5bb1e0-69e8-4864-bc96-03d68eba6502",
   "metadata": {},
   "source": [
    "# SQL methods"
   ]
  },
  {
   "cell_type": "code",
   "execution_count": 13,
   "id": "0cf6d123-dce1-4681-a500-c019c36d5615",
   "metadata": {},
   "outputs": [],
   "source": [
    "import psycopg2\n",
    "import os\n",
    "from datetime import datetime"
   ]
  },
  {
   "cell_type": "code",
   "execution_count": 14,
   "id": "646486a0-ddf7-4734-9d21-2c35ad58c3fd",
   "metadata": {},
   "outputs": [],
   "source": [
    "def run_syntax(db_connection: psycopg2, syntax: str) -> None:\n",
    "    \"\"\"\n",
    "    Run syntax.\n",
    "    :param db_connection: Database connection object.\n",
    "    :param syntax: Syntax for execution.\n",
    "    \"\"\"\n",
    "    cur = db_connection.cursor()\n",
    "    cur.execute(syntax)\n",
    "    cur.close()"
   ]
  },
  {
   "cell_type": "code",
   "execution_count": 15,
   "id": "3e207f01-3123-4a31-912d-54b261cbe604",
   "metadata": {},
   "outputs": [],
   "source": [
    "def create_table(schema: str, table: str) -> None:\n",
    "    \"\"\"\n",
    "    Create a table in the DB based on a schema.\n",
    "    :param schema: The table schema.\n",
    "    :param schema: The schema.\n",
    "    :param table: The name of the table.\n",
    "    \"\"\"\n",
    "    db_connection = psycopg2.connect(\n",
    "        host=\"ec2-52-31-70-136.eu-west-1.compute.amazonaws.com\",\n",
    "        user=\"fodrsjfllnljnm\",\n",
    "        password=\"60fb3f606b8de4e7d39a8efb6d48931a7123418d5fcfb0e27d74957ded438c25\",\n",
    "        dbname=\"dbphbgo6dthk7q\",\n",
    "    )\n",
    "\n",
    "    # Create table if it does not yet exist\n",
    "    run_syntax(db_connection=db_connection, syntax=f\"CREATE TABLE IF NOT EXISTS {table}({schema})\")\n",
    "\n",
    "    db_connection.commit()\n",
    "    db_connection.close()"
   ]
  },
  {
   "cell_type": "code",
   "execution_count": 16,
   "id": "8e6383f4-4953-40e7-b96b-83c6a64179db",
   "metadata": {},
   "outputs": [],
   "source": [
    "def populate_table(table_name: str, df: pd.DataFrame) -> None:\n",
    "    \"\"\"\n",
    "    Populate a table in the database from a pandas dataframe.\n",
    "    :param table_name: The name of the table in the DB that we will add the values in df to.\n",
    "    :param df: The dataframe that we use for puplating the table.\n",
    "    \"\"\"\n",
    "    db_connection = psycopg2.connect(\n",
    "        host=\"ec2-52-31-70-136.eu-west-1.compute.amazonaws.com\",\n",
    "        user=\"fodrsjfllnljnm\",\n",
    "        password=\"60fb3f606b8de4e7d39a8efb6d48931a7123418d5fcfb0e27d74957ded438c25\",\n",
    "        dbname=\"dbphbgo6dthk7q\",\n",
    "    )\n",
    "\n",
    "    # Check that all columns are present in the CSV file\n",
    "    cur = db_connection.cursor()\n",
    "    cur.execute(f\"SELECT * FROM {table_name} LIMIT 0\")\n",
    "    cur.close()\n",
    "\n",
    "    col_names = [i[0] for i in cur.description]\n",
    "    df[\"row_timestamp\"] = [datetime.now().strftime(\"%m-%d-%Y %H:%M:%S\")] * len(df.index)\n",
    "\n",
    "    missing_columns = set(col_names).difference(df.columns)\n",
    "    assert not missing_columns, f\"The following columns are missing in your CSV file: {','.join(missing_columns)}\"\n",
    "\n",
    "    # Re-order CSV\n",
    "    df = df[col_names]\n",
    "\n",
    "    # Inject data\n",
    "    for index, row in df.iterrows():\n",
    "        run_syntax(db_connection=db_connection, syntax=f\"INSERT INTO {table_name} VALUES{tuple(row.values)}\")\n",
    "    db_connection.commit()\n",
    "    db_connection.close()"
   ]
  },
  {
   "cell_type": "code",
   "execution_count": 17,
   "id": "0c29f49d-44de-44b6-b51b-ea7fd5939eff",
   "metadata": {},
   "outputs": [],
   "source": [
    "def drop_table(table_name: str) -> None:\n",
    "    \"\"\"\n",
    "    Populate a table in the database from a pandas dataframe.\n",
    "    :param table_name: The name of the table in the DB that we will add the values in df to.\n",
    "    :param df: The dataframe that we use for puplating the table.\n",
    "    \"\"\"\n",
    "    db_connection = psycopg2.connect(\n",
    "        host=\"ec2-52-31-70-136.eu-west-1.compute.amazonaws.com\",\n",
    "        user=\"fodrsjfllnljnm\",\n",
    "        password=\"60fb3f606b8de4e7d39a8efb6d48931a7123418d5fcfb0e27d74957ded438c25\",\n",
    "        dbname=\"dbphbgo6dthk7q\",\n",
    "    )\n",
    "    \n",
    "    cur = db_connection.cursor()\n",
    "    cur.execute(f\"DROP TABLE {table_name}\")\n",
    "    cur.close()\n",
    "    \n",
    "    db_connection.commit()\n",
    "    db_connection.close()"
   ]
  },
  {
   "cell_type": "code",
   "execution_count": 32,
   "id": "4aaaf48a-180e-4099-8bcf-a4fa7a72b21d",
   "metadata": {},
   "outputs": [],
   "source": [
    "create_table(table=\"Travels\", schema=travels_schema)"
   ]
  },
  {
   "cell_type": "code",
   "execution_count": null,
   "id": "0fdc630e-4905-4a86-a58d-d1d05a19305d",
   "metadata": {},
   "outputs": [],
   "source": []
  },
  {
   "cell_type": "code",
   "execution_count": 33,
   "id": "3820f600-a5f9-47a9-8ce3-d8e3225e4a84",
   "metadata": {},
   "outputs": [],
   "source": [
    "populate_table(table_name=\"Travels\", df=df_travels)"
   ]
  },
  {
   "cell_type": "code",
   "execution_count": null,
   "id": "b6dc938a-61b3-4bfa-9f17-a8415fbd8b77",
   "metadata": {},
   "outputs": [],
   "source": [
    "drop_table(table_name = \"Travels\")"
   ]
  }
 ],
 "metadata": {
  "kernelspec": {
   "display_name": "Python 3 (ipykernel)",
   "language": "python",
   "name": "python3"
  },
  "language_info": {
   "codemirror_mode": {
    "name": "ipython",
    "version": 3
   },
   "file_extension": ".py",
   "mimetype": "text/x-python",
   "name": "python",
   "nbconvert_exporter": "python",
   "pygments_lexer": "ipython3",
   "version": "3.9.13"
  }
 },
 "nbformat": 4,
 "nbformat_minor": 5
}
